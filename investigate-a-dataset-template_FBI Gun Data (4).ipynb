{
 "cells": [
  {
   "cell_type": "markdown",
   "metadata": {},
   "source": [
    "> **Tip**: Welcome to the Investigate a Dataset project! You will find tips in quoted sections like this to help organize your approach to your investigation. Before submitting your project, it will be a good idea to go back through your report and remove these sections to make the presentation of your work as tidy as possible. First things first, you might want to double-click this Markdown cell and change the title so that it reflects your dataset and investigation.\n",
    "\n",
    "# Project: Investigate a Dataset (FBI Gun Data)\n",
    "\n",
    "## Table of Contents\n",
    "<ul>\n",
    "<li><a href=\"#intro\">Introduction</a></li>\n",
    "<li><a href=\"#wrangling\">Data Wrangling</a></li>\n",
    "<li><a href=\"#eda\">Exploratory Data Analysis</a></li>\n",
    "<li><a href=\"#conclusions\">Conclusions</a></li>\n",
    "</ul>"
   ]
  },
  {
   "cell_type": "markdown",
   "metadata": {},
   "source": [
    "<a id='intro'></a>\n",
    "## Introduction\n",
    "\n",
    "Hello, I will be investigating and doing an analysis on the US FBI Gun data. I will be working with the NICS gun data and the US Census data for the years 2010 and 2016 using statistics gotten from cities in the United States. I will be using my analysis to answer the following questions:\n",
    "\n",
    "    *What is the estimated number of civilians gun registration per capita by states in the years 2010 and 2016?\n",
    "    *What is the percentage of female gun registration and the gun trend per state in the year 2010?\n",
    "    *What is the most purchased type of gun in the year 2016?\n"
   ]
  },
  {
   "cell_type": "code",
   "execution_count": 1,
   "metadata": {
    "collapsed": true
   },
   "outputs": [],
   "source": [
    "# Use this cell to set up import statements for all of the packages that you\n",
    "#   plan to use.\n",
    "\n",
    "# Remember to include a 'magic word' so that your visualizations are plotted\n",
    "#   inline with the notebook. See this page for more:\n",
    "#   http://ipython.readthedocs.io/en/stable/interactive/magics.html\n",
    "\n",
    "import pandas as pd\n",
    "import numpy as np\n",
    "from matplotlib import pyplot as plt\n",
    "%matplotlib inline\n",
    "\n"
   ]
  },
  {
   "cell_type": "markdown",
   "metadata": {},
   "source": [
    "<a id='wrangling'></a>\n",
    "## Data Wrangling\n",
    "\n",
    "> **Tip**: In this section of the report, you will load in the data, check for cleanliness, and then trim and clean your dataset for analysis. Make sure that you document your steps carefully and justify your cleaning decisions.\n",
    "\n",
    "### General Properties\n",
    "Firstly, I converted the gun data xlsx file provided to csv format, after which i will be loading the NICS dun data csv file and the US Census data into this notebook to carry out the analysis."
   ]
  },
  {
   "cell_type": "code",
   "execution_count": 2,
   "metadata": {
    "collapsed": false
   },
   "outputs": [],
   "source": [
    "# Load your data and print out a few lines. Perform operations to inspect data\n",
    "#   types and look for instances of missing or possibly errant data.\n",
    "import os\n",
    "path = \"gun-data.csv\"\n",
    "file_name = os.path.abspath(path)\n",
    "gun_df = pd.read_csv('C:/Users/hp/gun-data.csv')\n",
    "census_df = pd.read_csv('C:/Users/hp/u.s.-census-data.csv')\n",
    "\n"
   ]
  },
  {
   "cell_type": "markdown",
   "metadata": {},
   "source": [
    "> **Tip**: You should _not_ perform too many operations in each cell. Create cells freely to explore your data. One option that you can take with this project is to do a lot of explorations in an initial notebook. These don't have to be organized, but make sure you use enough comments to understand the purpose of each code cell. Then, after you're done with your analysis, create a duplicate notebook where you will trim the excess and organize your steps so that you have a flowing, cohesive report.\n",
    "\n",
    "> **Tip**: Make sure that you keep your reader informed on the steps that you are taking in your investigation. Follow every code cell, or every set of related code cells, with a markdown cell to describe to the reader what was found in the preceding cell(s). Try to make it so that the reader can then understand what they will be seeing in the following cell(s).\n",
    "\n",
    "### Data Cleaning ()"
   ]
  },
  {
   "cell_type": "code",
   "execution_count": 3,
   "metadata": {
    "collapsed": true
   },
   "outputs": [],
   "source": [
    "# After discussing the structure of the data and any problems that need to be\n",
    "#   cleaned, perform those cleaning steps in the second part of this section.\n",
    "## I will be cleaning the Gun Data and the Census Data\n"
   ]
  },
  {
   "cell_type": "markdown",
   "metadata": {},
   "source": [
    "## To clean the Gun Data"
   ]
  },
  {
   "cell_type": "code",
   "execution_count": 4,
   "metadata": {
    "collapsed": false
   },
   "outputs": [
    {
     "name": "stdout",
     "output_type": "stream",
     "text": [
      "     month       state  permit  permit_recheck  handgun  long_gun  other  \\\n",
      "0  2017-09     Alabama   16717               0     5734      6320    221   \n",
      "1  2017-09      Alaska     209               2     2320      2930    219   \n",
      "2  2017-09     Arizona    5069             382    11063      7946    920   \n",
      "3  2017-09    Arkansas    2935             632     4347      6063    165   \n",
      "4  2017-09  California   57839               0    37165     24581   2984   \n",
      "\n",
      "   multiple  admin  prepawn_handgun   ...    returned_other  rentals_handgun  \\\n",
      "0       317      0               15   ...                 0                0   \n",
      "1       160      0                5   ...                 0                0   \n",
      "2       631      0               13   ...                 0                0   \n",
      "3       366     51               12   ...                 0                0   \n",
      "4         0      0                0   ...                 0                0   \n",
      "\n",
      "   rentals_long_gun  private_sale_handgun  private_sale_long_gun  \\\n",
      "0                 0                     9                     16   \n",
      "1                 0                    17                     24   \n",
      "2                 0                    38                     12   \n",
      "3                 0                    13                     23   \n",
      "4                 0                     0                      0   \n",
      "\n",
      "   private_sale_other  return_to_seller_handgun  return_to_seller_long_gun  \\\n",
      "0                   3                         0                          0   \n",
      "1                   1                         0                          0   \n",
      "2                   2                         0                          0   \n",
      "3                   0                         0                          2   \n",
      "4                   0                         0                          0   \n",
      "\n",
      "   return_to_seller_other  totals  \n",
      "0                       3   32019  \n",
      "1                       0    6303  \n",
      "2                       0   28394  \n",
      "3                       1   17747  \n",
      "4                       0  123506  \n",
      "\n",
      "[5 rows x 27 columns]\n"
     ]
    }
   ],
   "source": [
    "#Print the Gun Data\n",
    "print(gun_df.head())"
   ]
  },
  {
   "cell_type": "code",
   "execution_count": 5,
   "metadata": {
    "collapsed": false
   },
   "outputs": [
    {
     "data": {
      "text/html": [
       "<div>\n",
       "<table border=\"1\" class=\"dataframe\">\n",
       "  <thead>\n",
       "    <tr style=\"text-align: right;\">\n",
       "      <th></th>\n",
       "      <th>permit</th>\n",
       "      <th>permit_recheck</th>\n",
       "      <th>handgun</th>\n",
       "      <th>long_gun</th>\n",
       "      <th>other</th>\n",
       "      <th>multiple</th>\n",
       "      <th>admin</th>\n",
       "      <th>prepawn_handgun</th>\n",
       "      <th>prepawn_long_gun</th>\n",
       "      <th>prepawn_other</th>\n",
       "      <th>...</th>\n",
       "      <th>returned_other</th>\n",
       "      <th>rentals_handgun</th>\n",
       "      <th>rentals_long_gun</th>\n",
       "      <th>private_sale_handgun</th>\n",
       "      <th>private_sale_long_gun</th>\n",
       "      <th>private_sale_other</th>\n",
       "      <th>return_to_seller_handgun</th>\n",
       "      <th>return_to_seller_long_gun</th>\n",
       "      <th>return_to_seller_other</th>\n",
       "      <th>totals</th>\n",
       "    </tr>\n",
       "  </thead>\n",
       "  <tbody>\n",
       "    <tr>\n",
       "      <th>count</th>\n",
       "      <td>12461.000000</td>\n",
       "      <td>1100.000000</td>\n",
       "      <td>12465.000000</td>\n",
       "      <td>12466.000000</td>\n",
       "      <td>5500.000000</td>\n",
       "      <td>12485.000000</td>\n",
       "      <td>12462.000000</td>\n",
       "      <td>10542.000000</td>\n",
       "      <td>10540.000000</td>\n",
       "      <td>5115.000000</td>\n",
       "      <td>...</td>\n",
       "      <td>1815.000000</td>\n",
       "      <td>990.000000</td>\n",
       "      <td>825.000000</td>\n",
       "      <td>2750.000000</td>\n",
       "      <td>2750.000000</td>\n",
       "      <td>2750.000000</td>\n",
       "      <td>2475.000000</td>\n",
       "      <td>2750.000000</td>\n",
       "      <td>2255.000000</td>\n",
       "      <td>12485.000000</td>\n",
       "    </tr>\n",
       "    <tr>\n",
       "      <th>mean</th>\n",
       "      <td>6413.629404</td>\n",
       "      <td>1165.956364</td>\n",
       "      <td>5940.881107</td>\n",
       "      <td>7810.847585</td>\n",
       "      <td>360.471636</td>\n",
       "      <td>268.603364</td>\n",
       "      <td>58.898090</td>\n",
       "      <td>4.828021</td>\n",
       "      <td>7.834156</td>\n",
       "      <td>0.165591</td>\n",
       "      <td>...</td>\n",
       "      <td>1.027548</td>\n",
       "      <td>0.076768</td>\n",
       "      <td>0.087273</td>\n",
       "      <td>14.936000</td>\n",
       "      <td>11.602909</td>\n",
       "      <td>1.030182</td>\n",
       "      <td>0.402020</td>\n",
       "      <td>0.441818</td>\n",
       "      <td>0.105987</td>\n",
       "      <td>21595.725911</td>\n",
       "    </tr>\n",
       "    <tr>\n",
       "      <th>std</th>\n",
       "      <td>23752.338269</td>\n",
       "      <td>9224.200609</td>\n",
       "      <td>8618.584060</td>\n",
       "      <td>9309.846140</td>\n",
       "      <td>1349.478273</td>\n",
       "      <td>783.185073</td>\n",
       "      <td>604.814818</td>\n",
       "      <td>10.907756</td>\n",
       "      <td>16.468028</td>\n",
       "      <td>1.057105</td>\n",
       "      <td>...</td>\n",
       "      <td>4.386296</td>\n",
       "      <td>0.634503</td>\n",
       "      <td>0.671649</td>\n",
       "      <td>71.216021</td>\n",
       "      <td>54.253090</td>\n",
       "      <td>4.467843</td>\n",
       "      <td>1.446568</td>\n",
       "      <td>1.528223</td>\n",
       "      <td>0.427363</td>\n",
       "      <td>32591.418387</td>\n",
       "    </tr>\n",
       "    <tr>\n",
       "      <th>min</th>\n",
       "      <td>0.000000</td>\n",
       "      <td>0.000000</td>\n",
       "      <td>0.000000</td>\n",
       "      <td>0.000000</td>\n",
       "      <td>0.000000</td>\n",
       "      <td>0.000000</td>\n",
       "      <td>0.000000</td>\n",
       "      <td>0.000000</td>\n",
       "      <td>0.000000</td>\n",
       "      <td>0.000000</td>\n",
       "      <td>...</td>\n",
       "      <td>0.000000</td>\n",
       "      <td>0.000000</td>\n",
       "      <td>0.000000</td>\n",
       "      <td>0.000000</td>\n",
       "      <td>0.000000</td>\n",
       "      <td>0.000000</td>\n",
       "      <td>0.000000</td>\n",
       "      <td>0.000000</td>\n",
       "      <td>0.000000</td>\n",
       "      <td>0.000000</td>\n",
       "    </tr>\n",
       "    <tr>\n",
       "      <th>25%</th>\n",
       "      <td>0.000000</td>\n",
       "      <td>0.000000</td>\n",
       "      <td>865.000000</td>\n",
       "      <td>2078.250000</td>\n",
       "      <td>17.000000</td>\n",
       "      <td>15.000000</td>\n",
       "      <td>0.000000</td>\n",
       "      <td>0.000000</td>\n",
       "      <td>0.000000</td>\n",
       "      <td>0.000000</td>\n",
       "      <td>...</td>\n",
       "      <td>0.000000</td>\n",
       "      <td>0.000000</td>\n",
       "      <td>0.000000</td>\n",
       "      <td>0.000000</td>\n",
       "      <td>0.000000</td>\n",
       "      <td>0.000000</td>\n",
       "      <td>0.000000</td>\n",
       "      <td>0.000000</td>\n",
       "      <td>0.000000</td>\n",
       "      <td>4638.000000</td>\n",
       "    </tr>\n",
       "    <tr>\n",
       "      <th>50%</th>\n",
       "      <td>518.000000</td>\n",
       "      <td>0.000000</td>\n",
       "      <td>3059.000000</td>\n",
       "      <td>5122.000000</td>\n",
       "      <td>121.000000</td>\n",
       "      <td>125.000000</td>\n",
       "      <td>0.000000</td>\n",
       "      <td>0.000000</td>\n",
       "      <td>1.000000</td>\n",
       "      <td>0.000000</td>\n",
       "      <td>...</td>\n",
       "      <td>0.000000</td>\n",
       "      <td>0.000000</td>\n",
       "      <td>0.000000</td>\n",
       "      <td>0.000000</td>\n",
       "      <td>0.000000</td>\n",
       "      <td>0.000000</td>\n",
       "      <td>0.000000</td>\n",
       "      <td>0.000000</td>\n",
       "      <td>0.000000</td>\n",
       "      <td>12399.000000</td>\n",
       "    </tr>\n",
       "    <tr>\n",
       "      <th>75%</th>\n",
       "      <td>4272.000000</td>\n",
       "      <td>0.000000</td>\n",
       "      <td>7280.000000</td>\n",
       "      <td>10380.750000</td>\n",
       "      <td>354.000000</td>\n",
       "      <td>301.000000</td>\n",
       "      <td>0.000000</td>\n",
       "      <td>5.000000</td>\n",
       "      <td>8.000000</td>\n",
       "      <td>0.000000</td>\n",
       "      <td>...</td>\n",
       "      <td>0.000000</td>\n",
       "      <td>0.000000</td>\n",
       "      <td>0.000000</td>\n",
       "      <td>2.000000</td>\n",
       "      <td>4.000000</td>\n",
       "      <td>0.000000</td>\n",
       "      <td>0.000000</td>\n",
       "      <td>0.000000</td>\n",
       "      <td>0.000000</td>\n",
       "      <td>25453.000000</td>\n",
       "    </tr>\n",
       "    <tr>\n",
       "      <th>max</th>\n",
       "      <td>522188.000000</td>\n",
       "      <td>116681.000000</td>\n",
       "      <td>107224.000000</td>\n",
       "      <td>108058.000000</td>\n",
       "      <td>77929.000000</td>\n",
       "      <td>38907.000000</td>\n",
       "      <td>28083.000000</td>\n",
       "      <td>164.000000</td>\n",
       "      <td>269.000000</td>\n",
       "      <td>49.000000</td>\n",
       "      <td>...</td>\n",
       "      <td>64.000000</td>\n",
       "      <td>12.000000</td>\n",
       "      <td>12.000000</td>\n",
       "      <td>1017.000000</td>\n",
       "      <td>777.000000</td>\n",
       "      <td>71.000000</td>\n",
       "      <td>28.000000</td>\n",
       "      <td>17.000000</td>\n",
       "      <td>4.000000</td>\n",
       "      <td>541978.000000</td>\n",
       "    </tr>\n",
       "  </tbody>\n",
       "</table>\n",
       "<p>8 rows × 25 columns</p>\n",
       "</div>"
      ],
      "text/plain": [
       "              permit  permit_recheck        handgun       long_gun  \\\n",
       "count   12461.000000     1100.000000   12465.000000   12466.000000   \n",
       "mean     6413.629404     1165.956364    5940.881107    7810.847585   \n",
       "std     23752.338269     9224.200609    8618.584060    9309.846140   \n",
       "min         0.000000        0.000000       0.000000       0.000000   \n",
       "25%         0.000000        0.000000     865.000000    2078.250000   \n",
       "50%       518.000000        0.000000    3059.000000    5122.000000   \n",
       "75%      4272.000000        0.000000    7280.000000   10380.750000   \n",
       "max    522188.000000   116681.000000  107224.000000  108058.000000   \n",
       "\n",
       "              other      multiple         admin  prepawn_handgun  \\\n",
       "count   5500.000000  12485.000000  12462.000000     10542.000000   \n",
       "mean     360.471636    268.603364     58.898090         4.828021   \n",
       "std     1349.478273    783.185073    604.814818        10.907756   \n",
       "min        0.000000      0.000000      0.000000         0.000000   \n",
       "25%       17.000000     15.000000      0.000000         0.000000   \n",
       "50%      121.000000    125.000000      0.000000         0.000000   \n",
       "75%      354.000000    301.000000      0.000000         5.000000   \n",
       "max    77929.000000  38907.000000  28083.000000       164.000000   \n",
       "\n",
       "       prepawn_long_gun  prepawn_other      ...        returned_other  \\\n",
       "count      10540.000000    5115.000000      ...           1815.000000   \n",
       "mean           7.834156       0.165591      ...              1.027548   \n",
       "std           16.468028       1.057105      ...              4.386296   \n",
       "min            0.000000       0.000000      ...              0.000000   \n",
       "25%            0.000000       0.000000      ...              0.000000   \n",
       "50%            1.000000       0.000000      ...              0.000000   \n",
       "75%            8.000000       0.000000      ...              0.000000   \n",
       "max          269.000000      49.000000      ...             64.000000   \n",
       "\n",
       "       rentals_handgun  rentals_long_gun  private_sale_handgun  \\\n",
       "count       990.000000        825.000000           2750.000000   \n",
       "mean          0.076768          0.087273             14.936000   \n",
       "std           0.634503          0.671649             71.216021   \n",
       "min           0.000000          0.000000              0.000000   \n",
       "25%           0.000000          0.000000              0.000000   \n",
       "50%           0.000000          0.000000              0.000000   \n",
       "75%           0.000000          0.000000              2.000000   \n",
       "max          12.000000         12.000000           1017.000000   \n",
       "\n",
       "       private_sale_long_gun  private_sale_other  return_to_seller_handgun  \\\n",
       "count            2750.000000         2750.000000               2475.000000   \n",
       "mean               11.602909            1.030182                  0.402020   \n",
       "std                54.253090            4.467843                  1.446568   \n",
       "min                 0.000000            0.000000                  0.000000   \n",
       "25%                 0.000000            0.000000                  0.000000   \n",
       "50%                 0.000000            0.000000                  0.000000   \n",
       "75%                 4.000000            0.000000                  0.000000   \n",
       "max               777.000000           71.000000                 28.000000   \n",
       "\n",
       "       return_to_seller_long_gun  return_to_seller_other         totals  \n",
       "count                2750.000000             2255.000000   12485.000000  \n",
       "mean                    0.441818                0.105987   21595.725911  \n",
       "std                     1.528223                0.427363   32591.418387  \n",
       "min                     0.000000                0.000000       0.000000  \n",
       "25%                     0.000000                0.000000    4638.000000  \n",
       "50%                     0.000000                0.000000   12399.000000  \n",
       "75%                     0.000000                0.000000   25453.000000  \n",
       "max                    17.000000                4.000000  541978.000000  \n",
       "\n",
       "[8 rows x 25 columns]"
      ]
     },
     "execution_count": 5,
     "metadata": {},
     "output_type": "execute_result"
    }
   ],
   "source": [
    "gun_df.describe()"
   ]
  },
  {
   "cell_type": "code",
   "execution_count": 6,
   "metadata": {
    "collapsed": false
   },
   "outputs": [
    {
     "data": {
      "text/plain": [
       "array(['month', 'state', 'permit', 'permit_recheck', 'handgun', 'long_gun',\n",
       "       'other', 'multiple', 'admin', 'prepawn_handgun', 'prepawn_long_gun',\n",
       "       'prepawn_other', 'redemption_handgun', 'redemption_long_gun',\n",
       "       'redemption_other', 'returned_handgun', 'returned_long_gun',\n",
       "       'returned_other', 'rentals_handgun', 'rentals_long_gun',\n",
       "       'private_sale_handgun', 'private_sale_long_gun',\n",
       "       'private_sale_other', 'return_to_seller_handgun',\n",
       "       'return_to_seller_long_gun', 'return_to_seller_other', 'totals'], dtype=object)"
      ]
     },
     "execution_count": 6,
     "metadata": {},
     "output_type": "execute_result"
    }
   ],
   "source": [
    "gun_df.columns.values"
   ]
  },
  {
   "cell_type": "code",
   "execution_count": 7,
   "metadata": {
    "collapsed": true
   },
   "outputs": [],
   "source": [
    "#Census_data did not include Guam, Puerto Rico, District Columbia, Virgin Islands, and Mariana Islands; \n",
    "# Therefore, I am going to remove them to match census data\n",
    "gun_df=gun_df[gun_df.state != 'Guam']\n",
    "gun_df=gun_df[gun_df.state != 'Puerto Rico']\n",
    "gun_df=gun_df[gun_df.state != 'District of Columbia']\n",
    "gun_df=gun_df[gun_df.state != 'Virgin Islands']\n",
    "gun_df=gun_df[gun_df.state != 'Mariana Islands']\n"
   ]
  },
  {
   "cell_type": "code",
   "execution_count": 8,
   "metadata": {
    "collapsed": false
   },
   "outputs": [],
   "source": [
    "# I am dropping all the columns that I will not be working with\n",
    "gun_data_capita = gun_df.drop(['permit', 'permit_recheck', 'handgun', 'long_gun',\n",
    "       'other', 'multiple', 'admin', 'prepawn_handgun', 'prepawn_long_gun',\n",
    "       'prepawn_other', 'redemption_handgun', 'redemption_long_gun',\n",
    "       'redemption_other', 'returned_handgun', 'returned_long_gun',\n",
    "       'returned_other', 'rentals_handgun', 'rentals_long_gun',\n",
    "       'private_sale_handgun', 'private_sale_long_gun',\n",
    "       'private_sale_other', 'return_to_seller_handgun',\n",
    "       'return_to_seller_long_gun', 'return_to_seller_other'], axis = 1)"
   ]
  },
  {
   "cell_type": "code",
   "execution_count": 9,
   "metadata": {
    "collapsed": false
   },
   "outputs": [
    {
     "data": {
      "text/html": [
       "<div>\n",
       "<table border=\"1\" class=\"dataframe\">\n",
       "  <thead>\n",
       "    <tr style=\"text-align: right;\">\n",
       "      <th></th>\n",
       "      <th>month</th>\n",
       "      <th>state</th>\n",
       "      <th>totals</th>\n",
       "    </tr>\n",
       "  </thead>\n",
       "  <tbody>\n",
       "    <tr>\n",
       "      <th>0</th>\n",
       "      <td>2017-09</td>\n",
       "      <td>Alabama</td>\n",
       "      <td>32019</td>\n",
       "    </tr>\n",
       "    <tr>\n",
       "      <th>1</th>\n",
       "      <td>2017-09</td>\n",
       "      <td>Alaska</td>\n",
       "      <td>6303</td>\n",
       "    </tr>\n",
       "    <tr>\n",
       "      <th>2</th>\n",
       "      <td>2017-09</td>\n",
       "      <td>Arizona</td>\n",
       "      <td>28394</td>\n",
       "    </tr>\n",
       "    <tr>\n",
       "      <th>3</th>\n",
       "      <td>2017-09</td>\n",
       "      <td>Arkansas</td>\n",
       "      <td>17747</td>\n",
       "    </tr>\n",
       "    <tr>\n",
       "      <th>4</th>\n",
       "      <td>2017-09</td>\n",
       "      <td>California</td>\n",
       "      <td>123506</td>\n",
       "    </tr>\n",
       "  </tbody>\n",
       "</table>\n",
       "</div>"
      ],
      "text/plain": [
       "     month       state  totals\n",
       "0  2017-09     Alabama   32019\n",
       "1  2017-09      Alaska    6303\n",
       "2  2017-09     Arizona   28394\n",
       "3  2017-09    Arkansas   17747\n",
       "4  2017-09  California  123506"
      ]
     },
     "execution_count": 9,
     "metadata": {},
     "output_type": "execute_result"
    }
   ],
   "source": [
    "gun_data_capita.head()"
   ]
  },
  {
   "cell_type": "code",
   "execution_count": 10,
   "metadata": {
    "collapsed": true
   },
   "outputs": [],
   "source": [
    "gun_data_capita['month'] = pd.to_datetime(gun_df['month'])"
   ]
  },
  {
   "cell_type": "code",
   "execution_count": 11,
   "metadata": {
    "collapsed": false
   },
   "outputs": [
    {
     "name": "stdout",
     "output_type": "stream",
     "text": [
      "<class 'pandas.core.frame.DataFrame'>\n",
      "Int64Index: 11350 entries, 0 to 12484\n",
      "Data columns (total 3 columns):\n",
      "month     11350 non-null datetime64[ns]\n",
      "state     11350 non-null object\n",
      "totals    11350 non-null int64\n",
      "dtypes: datetime64[ns](1), int64(1), object(1)\n",
      "memory usage: 310.4+ KB\n"
     ]
    }
   ],
   "source": [
    "gun_data_capita.info()"
   ]
  },
  {
   "cell_type": "code",
   "execution_count": 12,
   "metadata": {
    "collapsed": false
   },
   "outputs": [
    {
     "data": {
      "text/html": [
       "<div>\n",
       "<table border=\"1\" class=\"dataframe\">\n",
       "  <thead>\n",
       "    <tr style=\"text-align: right;\">\n",
       "      <th></th>\n",
       "      <th>month</th>\n",
       "      <th>state</th>\n",
       "      <th>totals</th>\n",
       "    </tr>\n",
       "  </thead>\n",
       "  <tbody>\n",
       "    <tr>\n",
       "      <th>4895</th>\n",
       "      <td>2010-04-01</td>\n",
       "      <td>Alabama</td>\n",
       "      <td>20791</td>\n",
       "    </tr>\n",
       "    <tr>\n",
       "      <th>4896</th>\n",
       "      <td>2010-04-01</td>\n",
       "      <td>Alaska</td>\n",
       "      <td>6411</td>\n",
       "    </tr>\n",
       "    <tr>\n",
       "      <th>4897</th>\n",
       "      <td>2010-04-01</td>\n",
       "      <td>Arizona</td>\n",
       "      <td>16578</td>\n",
       "    </tr>\n",
       "    <tr>\n",
       "      <th>4898</th>\n",
       "      <td>2010-04-01</td>\n",
       "      <td>Arkansas</td>\n",
       "      <td>14563</td>\n",
       "    </tr>\n",
       "    <tr>\n",
       "      <th>4899</th>\n",
       "      <td>2010-04-01</td>\n",
       "      <td>California</td>\n",
       "      <td>80750</td>\n",
       "    </tr>\n",
       "  </tbody>\n",
       "</table>\n",
       "</div>"
      ],
      "text/plain": [
       "          month       state  totals\n",
       "4895 2010-04-01     Alabama   20791\n",
       "4896 2010-04-01      Alaska    6411\n",
       "4897 2010-04-01     Arizona   16578\n",
       "4898 2010-04-01    Arkansas   14563\n",
       "4899 2010-04-01  California   80750"
      ]
     },
     "execution_count": 12,
     "metadata": {},
     "output_type": "execute_result"
    }
   ],
   "source": [
    "gun_data_2010 = gun_data_capita[gun_data_capita['month'] == '2010-04']\n",
    "gun_data_2010.head()"
   ]
  },
  {
   "cell_type": "code",
   "execution_count": 13,
   "metadata": {
    "collapsed": false
   },
   "outputs": [
    {
     "data": {
      "text/html": [
       "<div>\n",
       "<table border=\"1\" class=\"dataframe\">\n",
       "  <thead>\n",
       "    <tr style=\"text-align: right;\">\n",
       "      <th></th>\n",
       "      <th>totals</th>\n",
       "    </tr>\n",
       "  </thead>\n",
       "  <tbody>\n",
       "    <tr>\n",
       "      <th>count</th>\n",
       "      <td>50.0000</td>\n",
       "    </tr>\n",
       "    <tr>\n",
       "      <th>mean</th>\n",
       "      <td>24517.7400</td>\n",
       "    </tr>\n",
       "    <tr>\n",
       "      <th>std</th>\n",
       "      <td>34280.1673</td>\n",
       "    </tr>\n",
       "    <tr>\n",
       "      <th>min</th>\n",
       "      <td>963.0000</td>\n",
       "    </tr>\n",
       "    <tr>\n",
       "      <th>25%</th>\n",
       "      <td>7197.5000</td>\n",
       "    </tr>\n",
       "    <tr>\n",
       "      <th>50%</th>\n",
       "      <td>15242.5000</td>\n",
       "    </tr>\n",
       "    <tr>\n",
       "      <th>75%</th>\n",
       "      <td>26335.5000</td>\n",
       "    </tr>\n",
       "    <tr>\n",
       "      <th>max</th>\n",
       "      <td>211261.0000</td>\n",
       "    </tr>\n",
       "  </tbody>\n",
       "</table>\n",
       "</div>"
      ],
      "text/plain": [
       "            totals\n",
       "count      50.0000\n",
       "mean    24517.7400\n",
       "std     34280.1673\n",
       "min       963.0000\n",
       "25%      7197.5000\n",
       "50%     15242.5000\n",
       "75%     26335.5000\n",
       "max    211261.0000"
      ]
     },
     "execution_count": 13,
     "metadata": {},
     "output_type": "execute_result"
    }
   ],
   "source": [
    "gun_data_2010.describe()"
   ]
  },
  {
   "cell_type": "code",
   "execution_count": 14,
   "metadata": {
    "collapsed": false
   },
   "outputs": [
    {
     "data": {
      "text/html": [
       "<div>\n",
       "<table border=\"1\" class=\"dataframe\">\n",
       "  <thead>\n",
       "    <tr style=\"text-align: right;\">\n",
       "      <th></th>\n",
       "      <th>month</th>\n",
       "      <th>state</th>\n",
       "      <th>totals</th>\n",
       "    </tr>\n",
       "  </thead>\n",
       "  <tbody>\n",
       "    <tr>\n",
       "      <th>770</th>\n",
       "      <td>2016-07-01</td>\n",
       "      <td>Alabama</td>\n",
       "      <td>48927</td>\n",
       "    </tr>\n",
       "    <tr>\n",
       "      <th>771</th>\n",
       "      <td>2016-07-01</td>\n",
       "      <td>Alaska</td>\n",
       "      <td>6793</td>\n",
       "    </tr>\n",
       "    <tr>\n",
       "      <th>772</th>\n",
       "      <td>2016-07-01</td>\n",
       "      <td>Arizona</td>\n",
       "      <td>34496</td>\n",
       "    </tr>\n",
       "    <tr>\n",
       "      <th>773</th>\n",
       "      <td>2016-07-01</td>\n",
       "      <td>Arkansas</td>\n",
       "      <td>19378</td>\n",
       "    </tr>\n",
       "    <tr>\n",
       "      <th>774</th>\n",
       "      <td>2016-07-01</td>\n",
       "      <td>California</td>\n",
       "      <td>190218</td>\n",
       "    </tr>\n",
       "  </tbody>\n",
       "</table>\n",
       "</div>"
      ],
      "text/plain": [
       "         month       state  totals\n",
       "770 2016-07-01     Alabama   48927\n",
       "771 2016-07-01      Alaska    6793\n",
       "772 2016-07-01     Arizona   34496\n",
       "773 2016-07-01    Arkansas   19378\n",
       "774 2016-07-01  California  190218"
      ]
     },
     "execution_count": 14,
     "metadata": {},
     "output_type": "execute_result"
    }
   ],
   "source": [
    "gun_data_2016 = gun_data_capita[gun_data_capita['month'] == '2016-07']\n",
    "gun_data_2016.head()"
   ]
  },
  {
   "cell_type": "code",
   "execution_count": 15,
   "metadata": {
    "collapsed": false
   },
   "outputs": [
    {
     "data": {
      "text/html": [
       "<div>\n",
       "<table border=\"1\" class=\"dataframe\">\n",
       "  <thead>\n",
       "    <tr style=\"text-align: right;\">\n",
       "      <th></th>\n",
       "      <th>totals</th>\n",
       "    </tr>\n",
       "  </thead>\n",
       "  <tbody>\n",
       "    <tr>\n",
       "      <th>count</th>\n",
       "      <td>50.000000</td>\n",
       "    </tr>\n",
       "    <tr>\n",
       "      <th>mean</th>\n",
       "      <td>43710.400000</td>\n",
       "    </tr>\n",
       "    <tr>\n",
       "      <th>std</th>\n",
       "      <td>61544.999748</td>\n",
       "    </tr>\n",
       "    <tr>\n",
       "      <th>min</th>\n",
       "      <td>1565.000000</td>\n",
       "    </tr>\n",
       "    <tr>\n",
       "      <th>25%</th>\n",
       "      <td>11823.000000</td>\n",
       "    </tr>\n",
       "    <tr>\n",
       "      <th>50%</th>\n",
       "      <td>25379.500000</td>\n",
       "    </tr>\n",
       "    <tr>\n",
       "      <th>75%</th>\n",
       "      <td>46008.500000</td>\n",
       "    </tr>\n",
       "    <tr>\n",
       "      <th>max</th>\n",
       "      <td>363085.000000</td>\n",
       "    </tr>\n",
       "  </tbody>\n",
       "</table>\n",
       "</div>"
      ],
      "text/plain": [
       "              totals\n",
       "count      50.000000\n",
       "mean    43710.400000\n",
       "std     61544.999748\n",
       "min      1565.000000\n",
       "25%     11823.000000\n",
       "50%     25379.500000\n",
       "75%     46008.500000\n",
       "max    363085.000000"
      ]
     },
     "execution_count": 15,
     "metadata": {},
     "output_type": "execute_result"
    }
   ],
   "source": [
    "gun_data_2016.describe()"
   ]
  },
  {
   "cell_type": "markdown",
   "metadata": {
    "collapsed": true
   },
   "source": [
    "## To clean the census data"
   ]
  },
  {
   "cell_type": "code",
   "execution_count": 16,
   "metadata": {
    "collapsed": false
   },
   "outputs": [
    {
     "name": "stdout",
     "output_type": "stream",
     "text": [
      "                                                 Fact  \\\n",
      "0        Population estimates, July 1, 2016,  (V2016)   \n",
      "1   Population estimates base, April 1, 2010,  (V2...   \n",
      "2   Population, percent change - April 1, 2010 (es...   \n",
      "3                   Population, Census, April 1, 2010   \n",
      "4   Persons under 5 years, percent, July 1, 2016, ...   \n",
      "5       Persons under 5 years, percent, April 1, 2010   \n",
      "6   Persons under 18 years, percent, July 1, 2016,...   \n",
      "7      Persons under 18 years, percent, April 1, 2010   \n",
      "8   Persons 65 years and over, percent,  July 1, 2...   \n",
      "9   Persons 65 years and over, percent, April 1, 2010   \n",
      "10   Female persons, percent,  July 1, 2016,  (V2016)   \n",
      "11             Female persons, percent, April 1, 2010   \n",
      "12       White alone, percent, July 1, 2016,  (V2016)   \n",
      "13  Black or African American alone, percent, July...   \n",
      "14  American Indian and Alaska Native alone, perce...   \n",
      "15       Asian alone, percent, July 1, 2016,  (V2016)   \n",
      "16  Native Hawaiian and Other Pacific Islander alo...   \n",
      "17  Two or More Races, percent, July 1, 2016,  (V2...   \n",
      "18  Hispanic or Latino, percent, July 1, 2016,  (V...   \n",
      "19  White alone, not Hispanic or Latino, percent, ...   \n",
      "20                                Veterans, 2011-2015   \n",
      "21           Foreign born persons, percent, 2011-2015   \n",
      "22             Housing units,  July 1, 2016,  (V2016)   \n",
      "23                       Housing units, April 1, 2010   \n",
      "24        Owner-occupied housing unit rate, 2011-2015   \n",
      "25  Median value of owner-occupied housing units, ...   \n",
      "26  Median selected monthly owner costs -with a mo...   \n",
      "27  Median selected monthly owner costs -without a...   \n",
      "28                       Median gross rent, 2011-2015   \n",
      "29                             Building permits, 2016   \n",
      "..                                                ...   \n",
      "55                                    All firms, 2012   \n",
      "56                              Men-owned firms, 2012   \n",
      "57                            Women-owned firms, 2012   \n",
      "58                         Minority-owned firms, 2012   \n",
      "59                      Nonminority-owned firms, 2012   \n",
      "60                          Veteran-owned firms, 2012   \n",
      "61                       Nonveteran-owned firms, 2012   \n",
      "62                   Population per square mile, 2010   \n",
      "63                    Land area in square miles, 2010   \n",
      "64                                          FIPS Code   \n",
      "65                                                NaN   \n",
      "66  NOTE: FIPS Code values are enclosed in quotes ...   \n",
      "67                                                NaN   \n",
      "68                                        Value Notes   \n",
      "69                                                  1   \n",
      "70                                                NaN   \n",
      "71                                         Fact Notes   \n",
      "72                                                (a)   \n",
      "73                                                (b)   \n",
      "74                                                (c)   \n",
      "75                                                NaN   \n",
      "76                                        Value Flags   \n",
      "77                                                  -   \n",
      "78                                                  D   \n",
      "79                                                  F   \n",
      "80                                                 FN   \n",
      "81                                                NaN   \n",
      "82                                                  S   \n",
      "83                                                  X   \n",
      "84                                                  Z   \n",
      "\n",
      "                                            Fact Note    Alabama      Alaska  \\\n",
      "0                                                 NaN  4,863,300     741,894   \n",
      "1                                                 NaN  4,780,131     710,249   \n",
      "2                                                 NaN      1.70%       4.50%   \n",
      "3                                                 NaN  4,779,736     710,231   \n",
      "4                                                 NaN      6.00%       7.30%   \n",
      "5                                                 NaN      6.40%       7.60%   \n",
      "6                                                 NaN     22.60%      25.20%   \n",
      "7                                                 NaN     23.70%      26.40%   \n",
      "8                                                 NaN     16.10%      10.40%   \n",
      "9                                                 NaN     13.80%       7.70%   \n",
      "10                                                NaN     51.60%      47.70%   \n",
      "11                                                NaN     51.50%      48.00%   \n",
      "12                                                (a)     69.30%      66.10%   \n",
      "13                                                (a)     26.80%       3.80%   \n",
      "14                                                (a)      0.70%      15.20%   \n",
      "15                                                (a)      1.40%       6.30%   \n",
      "16                                                (a)      0.10%       1.30%   \n",
      "17                                                NaN      1.60%       7.30%   \n",
      "18                                                (b)      4.20%       7.00%   \n",
      "19                                                NaN     65.80%      61.20%   \n",
      "20                                                NaN    363,170      69,323   \n",
      "21                                                NaN      3.50%       7.40%   \n",
      "22                                                NaN  2,230,185     310,658   \n",
      "23                                                NaN  2,171,853     306,967   \n",
      "24                                                NaN     68.70%      63.40%   \n",
      "25                                                NaN  $125,500    $250,000    \n",
      "26                                                NaN    $1,139      $1,827    \n",
      "27                                                NaN      $345        $554    \n",
      "28                                                NaN      $717      $1,146    \n",
      "29                                                NaN     15,001       1,503   \n",
      "..                                                ...        ...         ...   \n",
      "55                                                NaN    374,153      68,032   \n",
      "56                                                NaN    203,604      35,402   \n",
      "57                                                NaN    137,630      22,141   \n",
      "58                                                NaN     92,219      13,688   \n",
      "59                                                NaN    272,651      51,147   \n",
      "60                                                NaN     41,943       7,953   \n",
      "61                                                NaN    316,984      56,091   \n",
      "62                                                NaN       94.4         1.2   \n",
      "63                                                NaN  50,645.33  570,640.95   \n",
      "64                                                NaN       \"01\"        \"02\"   \n",
      "65                                                NaN        NaN         NaN   \n",
      "66                                                NaN        NaN         NaN   \n",
      "67                                                NaN        NaN         NaN   \n",
      "68                                                NaN        NaN         NaN   \n",
      "69           Includes data not distributed by county.        NaN         NaN   \n",
      "70                                                NaN        NaN         NaN   \n",
      "71                                                NaN        NaN         NaN   \n",
      "72           Includes persons reporting only one race        NaN         NaN   \n",
      "73  Hispanics may be of any race, so also are incl...        NaN         NaN   \n",
      "74  Economic Census - Puerto Rico data are not com...        NaN         NaN   \n",
      "75                                                NaN        NaN         NaN   \n",
      "76                                                NaN        NaN         NaN   \n",
      "77  Either no or too few sample observations were ...        NaN         NaN   \n",
      "78  Suppressed to avoid disclosure of confidential...        NaN         NaN   \n",
      "79                                Fewer than 25 firms        NaN         NaN   \n",
      "80             Footnote on this item in place of data        NaN         NaN   \n",
      "81                                      Not available        NaN         NaN   \n",
      "82    Suppressed; does not meet publication standards        NaN         NaN   \n",
      "83                                     Not applicable        NaN         NaN   \n",
      "84  Value greater than zero but less than half uni...        NaN         NaN   \n",
      "\n",
      "       Arizona   Arkansas  California    Colorado Connecticut   Delaware  \\\n",
      "0    6,931,071  2,988,248  39,250,017   5,540,545   3,576,452    952,065   \n",
      "1    6,392,301  2,916,025  37,254,522   5,029,324   3,574,114    897,936   \n",
      "2        8.40%      2.50%       5.40%      10.20%       0.10%      6.00%   \n",
      "3    6,392,017  2,915,918  37,253,956   5,029,196   3,574,097    897,934   \n",
      "4        6.30%      6.40%       6.30%       6.10%       5.20%      5.80%   \n",
      "5        7.10%      6.80%       6.80%       6.80%       5.70%      6.20%   \n",
      "6       23.50%     23.60%      23.20%      22.80%      21.10%     21.50%   \n",
      "7       25.50%     24.40%      25.00%      24.40%      22.90%     22.90%   \n",
      "8       16.90%     16.30%      13.60%      13.40%      16.10%     17.50%   \n",
      "9       13.80%     14.40%      11.40%      10.90%      14.20%     14.40%   \n",
      "10      50.30%     50.90%      50.30%      49.70%      51.20%     51.60%   \n",
      "11      50.30%     50.90%      50.30%      49.90%      51.30%     51.60%   \n",
      "12      83.30%     79.40%      72.70%      87.50%      80.60%     70.10%   \n",
      "13       4.90%     15.70%       6.50%       4.50%      11.80%     22.60%   \n",
      "14       5.40%      1.00%       1.70%       1.60%       0.50%      0.60%   \n",
      "15       3.40%      1.60%      14.80%       3.30%       4.70%      4.00%   \n",
      "16       0.30%      0.30%       0.50%       0.20%       0.10%      0.10%   \n",
      "17       2.80%      2.00%       3.80%       3.00%       2.30%      2.60%   \n",
      "18      30.90%      7.30%      38.90%      21.30%      15.70%      9.20%   \n",
      "19      55.50%     72.90%      37.70%      68.60%      67.70%     62.90%   \n",
      "20     505,794    220,953   1,777,410     391,725     199,331     71,213   \n",
      "21      13.50%      4.70%      27.00%       9.80%      13.90%      8.70%   \n",
      "22   2,961,003  1,354,762  14,060,525   2,339,118   1,499,116    426,149   \n",
      "23   2,844,526  1,316,299  13,680,081   2,212,898   1,487,891    405,885   \n",
      "24      62.80%     66.10%      54.30%      64.30%      67.00%     71.20%   \n",
      "25   $167,500   $111,400    $385,500    $247,800    $270,500   $231,500    \n",
      "26     $1,343     $1,019      $2,155      $1,577      $2,067     $1,537    \n",
      "27       $380       $327        $500        $419        $833       $445    \n",
      "28       $913       $677      $1,255      $1,002      $1,075     $1,018    \n",
      "29      35,578      9,474     102,350      38,974       5,504      5,804   \n",
      "..         ...        ...         ...         ...         ...        ...   \n",
      "55     499,926    231,959   3,548,449     547,352     326,693     73,418   \n",
      "56     245,243    123,158   1,852,580     284,554     187,845     38,328   \n",
      "57     182,425     75,962   1,320,085     194,508     106,678     23,964   \n",
      "58     135,313     35,982   1,619,857      85,849      56,113     14,440   \n",
      "59     344,981    189,029   1,819,107     442,365     259,614     54,782   \n",
      "60      46,780     25,915     252,377      51,722      31,056      7,206   \n",
      "61     427,582    192,988   3,176,341     469,524     281,182     60,318   \n",
      "62        56.3         56       239.1        48.5       738.1      460.8   \n",
      "63  113,594.08  52,035.48  155,779.22  103,641.89    4,842.36   1,948.54   \n",
      "64        \"04\"       \"05\"        \"06\"        \"08\"        \"09\"       \"10\"   \n",
      "65         NaN        NaN         NaN         NaN         NaN        NaN   \n",
      "66         NaN        NaN         NaN         NaN         NaN        NaN   \n",
      "67         NaN        NaN         NaN         NaN         NaN        NaN   \n",
      "68         NaN        NaN         NaN         NaN         NaN        NaN   \n",
      "69         NaN        NaN         NaN         NaN         NaN        NaN   \n",
      "70         NaN        NaN         NaN         NaN         NaN        NaN   \n",
      "71         NaN        NaN         NaN         NaN         NaN        NaN   \n",
      "72         NaN        NaN         NaN         NaN         NaN        NaN   \n",
      "73         NaN        NaN         NaN         NaN         NaN        NaN   \n",
      "74         NaN        NaN         NaN         NaN         NaN        NaN   \n",
      "75         NaN        NaN         NaN         NaN         NaN        NaN   \n",
      "76         NaN        NaN         NaN         NaN         NaN        NaN   \n",
      "77         NaN        NaN         NaN         NaN         NaN        NaN   \n",
      "78         NaN        NaN         NaN         NaN         NaN        NaN   \n",
      "79         NaN        NaN         NaN         NaN         NaN        NaN   \n",
      "80         NaN        NaN         NaN         NaN         NaN        NaN   \n",
      "81         NaN        NaN         NaN         NaN         NaN        NaN   \n",
      "82         NaN        NaN         NaN         NaN         NaN        NaN   \n",
      "83         NaN        NaN         NaN         NaN         NaN        NaN   \n",
      "84         NaN        NaN         NaN         NaN         NaN        NaN   \n",
      "\n",
      "      ...     South Dakota Tennessee       Texas       Utah    Vermont  \\\n",
      "0     ...           865454   6651194  27,862,596  3,051,217    624,594   \n",
      "1     ...           814195   6346298  25,146,100  2,763,888    625,741   \n",
      "2     ...            0.063     0.048      10.80%     10.40%     -0.20%   \n",
      "3     ...           814180   6346105  25,145,561  2,763,885    625,741   \n",
      "4     ...            0.071     0.061       7.20%      8.30%      4.90%   \n",
      "5     ...            0.073     0.064       7.70%      9.50%      5.10%   \n",
      "6     ...            0.246     0.226      26.20%     30.20%     19.00%   \n",
      "7     ...            0.249     0.236      27.30%     31.50%     20.70%   \n",
      "8     ...             0.16     0.157      12.00%     10.50%     18.10%   \n",
      "9     ...            0.143     0.134      10.30%      9.00%     14.60%   \n",
      "10    ...            0.496     0.512      50.40%     49.70%     50.60%   \n",
      "11    ...              0.5     0.513      50.40%     49.80%     50.70%   \n",
      "12    ...            0.852     0.787      79.40%     91.10%     94.60%   \n",
      "13    ...             0.02     0.171      12.60%      1.40%      1.30%   \n",
      "14    ...             0.09     0.004       1.00%      1.60%      0.40%   \n",
      "15    ...            0.015     0.018       4.80%      2.50%      1.80%   \n",
      "16    ...            0.001     0.001       0.10%      1.00%          Z   \n",
      "17    ...            0.023     0.019       1.90%      2.50%      1.90%   \n",
      "18    ...            0.037     0.052      39.10%     13.80%      1.90%   \n",
      "19    ...            0.825     0.742      42.60%     78.80%     93.10%   \n",
      "20    ...            63742    462414   1,539,655    134,332     44,708   \n",
      "21    ...             0.03     0.048      16.60%      8.40%      4.30%   \n",
      "22    ...           383838   2919671  10,753,629  1,054,164    329,525   \n",
      "23    ...           363438   2812133   9,977,436    979,709    322,539   \n",
      "24    ...            0.681     0.668      62.20%     69.50%     71.00%   \n",
      "25    ...           140500    142100   $136,000   $215,900   $217,500    \n",
      "26    ...             1210      1181     $1,432     $1,428     $1,535    \n",
      "27    ...              433       359       $460       $388       $641    \n",
      "28    ...              655       764       $882       $887       $895    \n",
      "29    ...             5686     36157     165,853     22,662      1,771   \n",
      "..    ...              ...       ...         ...        ...        ...   \n",
      "55    ...            81314    550453   2,356,748    251,419     75,827   \n",
      "56    ...            42418    302249   1,251,696    132,163     41,270   \n",
      "57    ...            23722    195694     866,678     76,269     23,417   \n",
      "58    ...             4101    105234   1,070,392     24,423      2,354   \n",
      "59    ...            74228    434025   1,224,845    218,826     70,491   \n",
      "60    ...             8604     59379     213,590     18,754      8,237   \n",
      "61    ...            66219    469392   2,057,218    219,807     63,317   \n",
      "62    ...             10.7     153.9        96.3       33.6       67.9   \n",
      "63    ...            75811   41234.9  261,231.71  82,169.62   9,216.66   \n",
      "64    ...             \"46\"      \"47\"        \"48\"       \"49\"       \"50\"   \n",
      "65    ...              NaN       NaN         NaN        NaN        NaN   \n",
      "66    ...              NaN       NaN         NaN        NaN        NaN   \n",
      "67    ...              NaN       NaN         NaN        NaN        NaN   \n",
      "68    ...              NaN       NaN         NaN        NaN        NaN   \n",
      "69    ...              NaN       NaN         NaN        NaN        NaN   \n",
      "70    ...              NaN       NaN         NaN        NaN        NaN   \n",
      "71    ...              NaN       NaN         NaN        NaN        NaN   \n",
      "72    ...              NaN       NaN         NaN        NaN        NaN   \n",
      "73    ...              NaN       NaN         NaN        NaN        NaN   \n",
      "74    ...              NaN       NaN         NaN        NaN        NaN   \n",
      "75    ...              NaN       NaN         NaN        NaN        NaN   \n",
      "76    ...              NaN       NaN         NaN        NaN        NaN   \n",
      "77    ...              NaN       NaN         NaN        NaN        NaN   \n",
      "78    ...              NaN       NaN         NaN        NaN        NaN   \n",
      "79    ...              NaN       NaN         NaN        NaN        NaN   \n",
      "80    ...              NaN       NaN         NaN        NaN        NaN   \n",
      "81    ...              NaN       NaN         NaN        NaN        NaN   \n",
      "82    ...              NaN       NaN         NaN        NaN        NaN   \n",
      "83    ...              NaN       NaN         NaN        NaN        NaN   \n",
      "84    ...              NaN       NaN         NaN        NaN        NaN   \n",
      "\n",
      "     Virginia Washington West Virginia  Wisconsin    Wyoming  \n",
      "0   8,411,808  7,288,000     1,831,102  5,778,708    585,501  \n",
      "1   8,001,041  6,724,545     1,853,011  5,687,289    563,767  \n",
      "2       5.10%      8.40%        -1.20%      1.60%      3.90%  \n",
      "3   8,001,024  6,724,540     1,852,994  5,686,986    563,626  \n",
      "4       6.10%      6.20%         5.50%      5.80%      6.50%  \n",
      "5       6.40%      6.50%         5.60%      6.30%      7.10%  \n",
      "6      22.20%     22.40%        20.50%     22.30%     23.70%  \n",
      "7      23.20%     23.50%        20.90%     23.60%     24.00%  \n",
      "8      14.60%     14.80%        18.80%     16.10%     15.00%  \n",
      "9      12.20%     12.30%        16.00%     13.70%     12.40%  \n",
      "10     50.80%     50.00%        50.50%     50.30%     48.90%  \n",
      "11     50.90%     50.20%        50.70%     50.40%     49.00%  \n",
      "12     70.00%     80.00%        93.60%     87.50%     92.80%  \n",
      "13     19.80%      4.10%         3.60%      6.60%      1.30%  \n",
      "14      0.50%      1.90%         0.20%      1.10%      2.70%  \n",
      "15      6.60%      8.60%         0.80%      2.80%      1.00%  \n",
      "16      0.10%      0.80%             Z      0.10%      0.10%  \n",
      "17      2.90%      4.60%         1.70%      1.90%      2.10%  \n",
      "18      9.10%     12.40%         1.50%      6.70%     10.00%  \n",
      "19     62.40%     69.50%        92.30%     81.70%     84.10%  \n",
      "20    706,539    564,864       150,021    381,940     48,505  \n",
      "21     11.70%     13.40%         1.50%      4.80%      3.60%  \n",
      "22  3,491,054  3,025,685       886,640  2,668,444    270,600  \n",
      "23  3,364,939  2,885,677       881,917  2,624,358    261,868  \n",
      "24     66.20%     62.50%        72.50%     67.30%     69.10%  \n",
      "25  $245,000   $259,500      $103,800   $165,800   $194,800   \n",
      "26    $1,711     $1,731          $966     $1,402     $1,348   \n",
      "27      $433       $511          $293       $532       $386   \n",
      "28    $1,116     $1,014          $643       $776       $789   \n",
      "29     31,132     44,077         2,544     19,274      1,727  \n",
      "..        ...        ...           ...        ...        ...  \n",
      "55    653,193    541,522       114,435    432,980     62,427  \n",
      "56    353,012    262,650        63,112    236,252     30,039  \n",
      "57    236,290    187,677        39,065    133,859     19,344  \n",
      "58    185,043     92,807         5,777     40,507      4,077  \n",
      "59    450,109    426,697       104,785    379,934     55,397  \n",
      "60     76,434     49,331        12,912     39,830      6,470  \n",
      "61    548,439    461,401        94,960    370,755     51,353  \n",
      "62      202.6      101.2          77.1        105        5.8  \n",
      "63  39,490.09  66,455.52     24,038.21  54,157.80  97,093.14  \n",
      "64       \"51\"       \"53\"          \"54\"       \"55\"       \"56\"  \n",
      "65        NaN        NaN           NaN        NaN        NaN  \n",
      "66        NaN        NaN           NaN        NaN        NaN  \n",
      "67        NaN        NaN           NaN        NaN        NaN  \n",
      "68        NaN        NaN           NaN        NaN        NaN  \n",
      "69        NaN        NaN           NaN        NaN        NaN  \n",
      "70        NaN        NaN           NaN        NaN        NaN  \n",
      "71        NaN        NaN           NaN        NaN        NaN  \n",
      "72        NaN        NaN           NaN        NaN        NaN  \n",
      "73        NaN        NaN           NaN        NaN        NaN  \n",
      "74        NaN        NaN           NaN        NaN        NaN  \n",
      "75        NaN        NaN           NaN        NaN        NaN  \n",
      "76        NaN        NaN           NaN        NaN        NaN  \n",
      "77        NaN        NaN           NaN        NaN        NaN  \n",
      "78        NaN        NaN           NaN        NaN        NaN  \n",
      "79        NaN        NaN           NaN        NaN        NaN  \n",
      "80        NaN        NaN           NaN        NaN        NaN  \n",
      "81        NaN        NaN           NaN        NaN        NaN  \n",
      "82        NaN        NaN           NaN        NaN        NaN  \n",
      "83        NaN        NaN           NaN        NaN        NaN  \n",
      "84        NaN        NaN           NaN        NaN        NaN  \n",
      "\n",
      "[85 rows x 52 columns]\n"
     ]
    }
   ],
   "source": [
    "print(census_df)"
   ]
  },
  {
   "cell_type": "code",
   "execution_count": 17,
   "metadata": {
    "collapsed": true
   },
   "outputs": [],
   "source": [
    "#I am dropping all the columns not associated with gun data as I will be merging the two datas\n",
    "census_df = census_df.drop(census_df.index[65:85])"
   ]
  },
  {
   "cell_type": "code",
   "execution_count": 18,
   "metadata": {
    "collapsed": false
   },
   "outputs": [],
   "source": [
    "#I am dropping the column named Fact Note\n",
    "census_df = census_df.drop(['Fact Note'], axis =1)"
   ]
  },
  {
   "cell_type": "code",
   "execution_count": 19,
   "metadata": {
    "collapsed": true
   },
   "outputs": [],
   "source": [
    "#I want to convert all the NAN to 0.0\n",
    "census_df = census_df.fillna(0.0)"
   ]
  },
  {
   "cell_type": "code",
   "execution_count": 20,
   "metadata": {
    "collapsed": true
   },
   "outputs": [],
   "source": [
    "#This will make it easy to join with the gun data for my analysis\n",
    "census_df.set_index('Fact',inplace=True)\n",
    "census_df = census_df.T"
   ]
  },
  {
   "cell_type": "code",
   "execution_count": 21,
   "metadata": {
    "collapsed": false,
    "scrolled": false
   },
   "outputs": [
    {
     "data": {
      "text/html": [
       "<div>\n",
       "<table border=\"1\" class=\"dataframe\">\n",
       "  <thead>\n",
       "    <tr style=\"text-align: right;\">\n",
       "      <th>Fact</th>\n",
       "      <th>Population estimates, July 1, 2016,  (V2016)</th>\n",
       "      <th>Population estimates base, April 1, 2010,  (V2016)</th>\n",
       "      <th>Population, percent change - April 1, 2010 (estimates base) to July 1, 2016,  (V2016)</th>\n",
       "      <th>Population, Census, April 1, 2010</th>\n",
       "      <th>Persons under 5 years, percent, July 1, 2016,  (V2016)</th>\n",
       "      <th>Persons under 5 years, percent, April 1, 2010</th>\n",
       "      <th>Persons under 18 years, percent, July 1, 2016,  (V2016)</th>\n",
       "      <th>Persons under 18 years, percent, April 1, 2010</th>\n",
       "      <th>Persons 65 years and over, percent,  July 1, 2016,  (V2016)</th>\n",
       "      <th>Persons 65 years and over, percent, April 1, 2010</th>\n",
       "      <th>...</th>\n",
       "      <th>All firms, 2012</th>\n",
       "      <th>Men-owned firms, 2012</th>\n",
       "      <th>Women-owned firms, 2012</th>\n",
       "      <th>Minority-owned firms, 2012</th>\n",
       "      <th>Nonminority-owned firms, 2012</th>\n",
       "      <th>Veteran-owned firms, 2012</th>\n",
       "      <th>Nonveteran-owned firms, 2012</th>\n",
       "      <th>Population per square mile, 2010</th>\n",
       "      <th>Land area in square miles, 2010</th>\n",
       "      <th>FIPS Code</th>\n",
       "    </tr>\n",
       "  </thead>\n",
       "  <tbody>\n",
       "    <tr>\n",
       "      <th>Alabama</th>\n",
       "      <td>4,863,300</td>\n",
       "      <td>4,780,131</td>\n",
       "      <td>1.70%</td>\n",
       "      <td>4,779,736</td>\n",
       "      <td>6.00%</td>\n",
       "      <td>6.40%</td>\n",
       "      <td>22.60%</td>\n",
       "      <td>23.70%</td>\n",
       "      <td>16.10%</td>\n",
       "      <td>13.80%</td>\n",
       "      <td>...</td>\n",
       "      <td>374,153</td>\n",
       "      <td>203,604</td>\n",
       "      <td>137,630</td>\n",
       "      <td>92,219</td>\n",
       "      <td>272,651</td>\n",
       "      <td>41,943</td>\n",
       "      <td>316,984</td>\n",
       "      <td>94.4</td>\n",
       "      <td>50,645.33</td>\n",
       "      <td>\"01\"</td>\n",
       "    </tr>\n",
       "    <tr>\n",
       "      <th>Alaska</th>\n",
       "      <td>741,894</td>\n",
       "      <td>710,249</td>\n",
       "      <td>4.50%</td>\n",
       "      <td>710,231</td>\n",
       "      <td>7.30%</td>\n",
       "      <td>7.60%</td>\n",
       "      <td>25.20%</td>\n",
       "      <td>26.40%</td>\n",
       "      <td>10.40%</td>\n",
       "      <td>7.70%</td>\n",
       "      <td>...</td>\n",
       "      <td>68,032</td>\n",
       "      <td>35,402</td>\n",
       "      <td>22,141</td>\n",
       "      <td>13,688</td>\n",
       "      <td>51,147</td>\n",
       "      <td>7,953</td>\n",
       "      <td>56,091</td>\n",
       "      <td>1.2</td>\n",
       "      <td>570,640.95</td>\n",
       "      <td>\"02\"</td>\n",
       "    </tr>\n",
       "    <tr>\n",
       "      <th>Arizona</th>\n",
       "      <td>6,931,071</td>\n",
       "      <td>6,392,301</td>\n",
       "      <td>8.40%</td>\n",
       "      <td>6,392,017</td>\n",
       "      <td>6.30%</td>\n",
       "      <td>7.10%</td>\n",
       "      <td>23.50%</td>\n",
       "      <td>25.50%</td>\n",
       "      <td>16.90%</td>\n",
       "      <td>13.80%</td>\n",
       "      <td>...</td>\n",
       "      <td>499,926</td>\n",
       "      <td>245,243</td>\n",
       "      <td>182,425</td>\n",
       "      <td>135,313</td>\n",
       "      <td>344,981</td>\n",
       "      <td>46,780</td>\n",
       "      <td>427,582</td>\n",
       "      <td>56.3</td>\n",
       "      <td>113,594.08</td>\n",
       "      <td>\"04\"</td>\n",
       "    </tr>\n",
       "    <tr>\n",
       "      <th>Arkansas</th>\n",
       "      <td>2,988,248</td>\n",
       "      <td>2,916,025</td>\n",
       "      <td>2.50%</td>\n",
       "      <td>2,915,918</td>\n",
       "      <td>6.40%</td>\n",
       "      <td>6.80%</td>\n",
       "      <td>23.60%</td>\n",
       "      <td>24.40%</td>\n",
       "      <td>16.30%</td>\n",
       "      <td>14.40%</td>\n",
       "      <td>...</td>\n",
       "      <td>231,959</td>\n",
       "      <td>123,158</td>\n",
       "      <td>75,962</td>\n",
       "      <td>35,982</td>\n",
       "      <td>189,029</td>\n",
       "      <td>25,915</td>\n",
       "      <td>192,988</td>\n",
       "      <td>56</td>\n",
       "      <td>52,035.48</td>\n",
       "      <td>\"05\"</td>\n",
       "    </tr>\n",
       "    <tr>\n",
       "      <th>California</th>\n",
       "      <td>39,250,017</td>\n",
       "      <td>37,254,522</td>\n",
       "      <td>5.40%</td>\n",
       "      <td>37,253,956</td>\n",
       "      <td>6.30%</td>\n",
       "      <td>6.80%</td>\n",
       "      <td>23.20%</td>\n",
       "      <td>25.00%</td>\n",
       "      <td>13.60%</td>\n",
       "      <td>11.40%</td>\n",
       "      <td>...</td>\n",
       "      <td>3,548,449</td>\n",
       "      <td>1,852,580</td>\n",
       "      <td>1,320,085</td>\n",
       "      <td>1,619,857</td>\n",
       "      <td>1,819,107</td>\n",
       "      <td>252,377</td>\n",
       "      <td>3,176,341</td>\n",
       "      <td>239.1</td>\n",
       "      <td>155,779.22</td>\n",
       "      <td>\"06\"</td>\n",
       "    </tr>\n",
       "  </tbody>\n",
       "</table>\n",
       "<p>5 rows × 65 columns</p>\n",
       "</div>"
      ],
      "text/plain": [
       "Fact       Population estimates, July 1, 2016,  (V2016)  \\\n",
       "Alabama                                       4,863,300   \n",
       "Alaska                                          741,894   \n",
       "Arizona                                       6,931,071   \n",
       "Arkansas                                      2,988,248   \n",
       "California                                   39,250,017   \n",
       "\n",
       "Fact       Population estimates base, April 1, 2010,  (V2016)  \\\n",
       "Alabama                                             4,780,131   \n",
       "Alaska                                                710,249   \n",
       "Arizona                                             6,392,301   \n",
       "Arkansas                                            2,916,025   \n",
       "California                                         37,254,522   \n",
       "\n",
       "Fact       Population, percent change - April 1, 2010 (estimates base) to July 1, 2016,  (V2016)  \\\n",
       "Alabama                                                 1.70%                                      \n",
       "Alaska                                                  4.50%                                      \n",
       "Arizona                                                 8.40%                                      \n",
       "Arkansas                                                2.50%                                      \n",
       "California                                              5.40%                                      \n",
       "\n",
       "Fact       Population, Census, April 1, 2010  \\\n",
       "Alabama                            4,779,736   \n",
       "Alaska                               710,231   \n",
       "Arizona                            6,392,017   \n",
       "Arkansas                           2,915,918   \n",
       "California                        37,253,956   \n",
       "\n",
       "Fact       Persons under 5 years, percent, July 1, 2016,  (V2016)  \\\n",
       "Alabama                                                 6.00%       \n",
       "Alaska                                                  7.30%       \n",
       "Arizona                                                 6.30%       \n",
       "Arkansas                                                6.40%       \n",
       "California                                              6.30%       \n",
       "\n",
       "Fact       Persons under 5 years, percent, April 1, 2010  \\\n",
       "Alabama                                            6.40%   \n",
       "Alaska                                             7.60%   \n",
       "Arizona                                            7.10%   \n",
       "Arkansas                                           6.80%   \n",
       "California                                         6.80%   \n",
       "\n",
       "Fact       Persons under 18 years, percent, July 1, 2016,  (V2016)  \\\n",
       "Alabama                                                22.60%        \n",
       "Alaska                                                 25.20%        \n",
       "Arizona                                                23.50%        \n",
       "Arkansas                                               23.60%        \n",
       "California                                             23.20%        \n",
       "\n",
       "Fact       Persons under 18 years, percent, April 1, 2010  \\\n",
       "Alabama                                            23.70%   \n",
       "Alaska                                             26.40%   \n",
       "Arizona                                            25.50%   \n",
       "Arkansas                                           24.40%   \n",
       "California                                         25.00%   \n",
       "\n",
       "Fact       Persons 65 years and over, percent,  July 1, 2016,  (V2016)  \\\n",
       "Alabama                                                16.10%            \n",
       "Alaska                                                 10.40%            \n",
       "Arizona                                                16.90%            \n",
       "Arkansas                                               16.30%            \n",
       "California                                             13.60%            \n",
       "\n",
       "Fact       Persons 65 years and over, percent, April 1, 2010    ...     \\\n",
       "Alabama                                               13.80%    ...      \n",
       "Alaska                                                 7.70%    ...      \n",
       "Arizona                                               13.80%    ...      \n",
       "Arkansas                                              14.40%    ...      \n",
       "California                                            11.40%    ...      \n",
       "\n",
       "Fact       All firms, 2012 Men-owned firms, 2012 Women-owned firms, 2012  \\\n",
       "Alabama            374,153               203,604                 137,630   \n",
       "Alaska              68,032                35,402                  22,141   \n",
       "Arizona            499,926               245,243                 182,425   \n",
       "Arkansas           231,959               123,158                  75,962   \n",
       "California       3,548,449             1,852,580               1,320,085   \n",
       "\n",
       "Fact       Minority-owned firms, 2012 Nonminority-owned firms, 2012  \\\n",
       "Alabama                        92,219                       272,651   \n",
       "Alaska                         13,688                        51,147   \n",
       "Arizona                       135,313                       344,981   \n",
       "Arkansas                       35,982                       189,029   \n",
       "California                  1,619,857                     1,819,107   \n",
       "\n",
       "Fact       Veteran-owned firms, 2012 Nonveteran-owned firms, 2012  \\\n",
       "Alabama                       41,943                      316,984   \n",
       "Alaska                         7,953                       56,091   \n",
       "Arizona                       46,780                      427,582   \n",
       "Arkansas                      25,915                      192,988   \n",
       "California                   252,377                    3,176,341   \n",
       "\n",
       "Fact       Population per square mile, 2010 Land area in square miles, 2010  \\\n",
       "Alabama                                94.4                       50,645.33   \n",
       "Alaska                                  1.2                      570,640.95   \n",
       "Arizona                                56.3                      113,594.08   \n",
       "Arkansas                                 56                       52,035.48   \n",
       "California                            239.1                      155,779.22   \n",
       "\n",
       "Fact       FIPS Code  \n",
       "Alabama         \"01\"  \n",
       "Alaska          \"02\"  \n",
       "Arizona         \"04\"  \n",
       "Arkansas        \"05\"  \n",
       "California      \"06\"  \n",
       "\n",
       "[5 rows x 65 columns]"
      ]
     },
     "execution_count": 21,
     "metadata": {},
     "output_type": "execute_result"
    }
   ],
   "source": [
    "census_df.head()"
   ]
  },
  {
   "cell_type": "code",
   "execution_count": 22,
   "metadata": {
    "collapsed": false
   },
   "outputs": [
    {
     "data": {
      "text/html": [
       "<div>\n",
       "<table border=\"1\" class=\"dataframe\">\n",
       "  <thead>\n",
       "    <tr style=\"text-align: right;\">\n",
       "      <th>Fact</th>\n",
       "      <th>Population estimates, July 1, 2016,  (V2016)</th>\n",
       "      <th>Population estimates base, April 1, 2010,  (V2016)</th>\n",
       "      <th>Population, percent change - April 1, 2010 (estimates base) to July 1, 2016,  (V2016)</th>\n",
       "      <th>Population, Census, April 1, 2010</th>\n",
       "      <th>Persons under 5 years, percent, July 1, 2016,  (V2016)</th>\n",
       "      <th>Persons under 5 years, percent, April 1, 2010</th>\n",
       "      <th>Persons under 18 years, percent, July 1, 2016,  (V2016)</th>\n",
       "      <th>Persons under 18 years, percent, April 1, 2010</th>\n",
       "      <th>Persons 65 years and over, percent,  July 1, 2016,  (V2016)</th>\n",
       "      <th>Persons 65 years and over, percent, April 1, 2010</th>\n",
       "      <th>...</th>\n",
       "      <th>All firms, 2012</th>\n",
       "      <th>Men-owned firms, 2012</th>\n",
       "      <th>Women-owned firms, 2012</th>\n",
       "      <th>Minority-owned firms, 2012</th>\n",
       "      <th>Nonminority-owned firms, 2012</th>\n",
       "      <th>Veteran-owned firms, 2012</th>\n",
       "      <th>Nonveteran-owned firms, 2012</th>\n",
       "      <th>Population per square mile, 2010</th>\n",
       "      <th>Land area in square miles, 2010</th>\n",
       "      <th>FIPS Code</th>\n",
       "    </tr>\n",
       "  </thead>\n",
       "  <tbody>\n",
       "    <tr>\n",
       "      <th>Alabama</th>\n",
       "      <td>4,863,300</td>\n",
       "      <td>4,780,131</td>\n",
       "      <td>1.70%</td>\n",
       "      <td>4,779,736</td>\n",
       "      <td>6.00%</td>\n",
       "      <td>6.40%</td>\n",
       "      <td>22.60%</td>\n",
       "      <td>23.70%</td>\n",
       "      <td>16.10%</td>\n",
       "      <td>13.80%</td>\n",
       "      <td>...</td>\n",
       "      <td>374,153</td>\n",
       "      <td>203,604</td>\n",
       "      <td>137,630</td>\n",
       "      <td>92,219</td>\n",
       "      <td>272,651</td>\n",
       "      <td>41,943</td>\n",
       "      <td>316,984</td>\n",
       "      <td>94.4</td>\n",
       "      <td>50,645.33</td>\n",
       "      <td>\"01\"</td>\n",
       "    </tr>\n",
       "    <tr>\n",
       "      <th>Alaska</th>\n",
       "      <td>741,894</td>\n",
       "      <td>710,249</td>\n",
       "      <td>4.50%</td>\n",
       "      <td>710,231</td>\n",
       "      <td>7.30%</td>\n",
       "      <td>7.60%</td>\n",
       "      <td>25.20%</td>\n",
       "      <td>26.40%</td>\n",
       "      <td>10.40%</td>\n",
       "      <td>7.70%</td>\n",
       "      <td>...</td>\n",
       "      <td>68,032</td>\n",
       "      <td>35,402</td>\n",
       "      <td>22,141</td>\n",
       "      <td>13,688</td>\n",
       "      <td>51,147</td>\n",
       "      <td>7,953</td>\n",
       "      <td>56,091</td>\n",
       "      <td>1.2</td>\n",
       "      <td>570,640.95</td>\n",
       "      <td>\"02\"</td>\n",
       "    </tr>\n",
       "    <tr>\n",
       "      <th>Arizona</th>\n",
       "      <td>6,931,071</td>\n",
       "      <td>6,392,301</td>\n",
       "      <td>8.40%</td>\n",
       "      <td>6,392,017</td>\n",
       "      <td>6.30%</td>\n",
       "      <td>7.10%</td>\n",
       "      <td>23.50%</td>\n",
       "      <td>25.50%</td>\n",
       "      <td>16.90%</td>\n",
       "      <td>13.80%</td>\n",
       "      <td>...</td>\n",
       "      <td>499,926</td>\n",
       "      <td>245,243</td>\n",
       "      <td>182,425</td>\n",
       "      <td>135,313</td>\n",
       "      <td>344,981</td>\n",
       "      <td>46,780</td>\n",
       "      <td>427,582</td>\n",
       "      <td>56.3</td>\n",
       "      <td>113,594.08</td>\n",
       "      <td>\"04\"</td>\n",
       "    </tr>\n",
       "    <tr>\n",
       "      <th>Arkansas</th>\n",
       "      <td>2,988,248</td>\n",
       "      <td>2,916,025</td>\n",
       "      <td>2.50%</td>\n",
       "      <td>2,915,918</td>\n",
       "      <td>6.40%</td>\n",
       "      <td>6.80%</td>\n",
       "      <td>23.60%</td>\n",
       "      <td>24.40%</td>\n",
       "      <td>16.30%</td>\n",
       "      <td>14.40%</td>\n",
       "      <td>...</td>\n",
       "      <td>231,959</td>\n",
       "      <td>123,158</td>\n",
       "      <td>75,962</td>\n",
       "      <td>35,982</td>\n",
       "      <td>189,029</td>\n",
       "      <td>25,915</td>\n",
       "      <td>192,988</td>\n",
       "      <td>56</td>\n",
       "      <td>52,035.48</td>\n",
       "      <td>\"05\"</td>\n",
       "    </tr>\n",
       "    <tr>\n",
       "      <th>California</th>\n",
       "      <td>39,250,017</td>\n",
       "      <td>37,254,522</td>\n",
       "      <td>5.40%</td>\n",
       "      <td>37,253,956</td>\n",
       "      <td>6.30%</td>\n",
       "      <td>6.80%</td>\n",
       "      <td>23.20%</td>\n",
       "      <td>25.00%</td>\n",
       "      <td>13.60%</td>\n",
       "      <td>11.40%</td>\n",
       "      <td>...</td>\n",
       "      <td>3,548,449</td>\n",
       "      <td>1,852,580</td>\n",
       "      <td>1,320,085</td>\n",
       "      <td>1,619,857</td>\n",
       "      <td>1,819,107</td>\n",
       "      <td>252,377</td>\n",
       "      <td>3,176,341</td>\n",
       "      <td>239.1</td>\n",
       "      <td>155,779.22</td>\n",
       "      <td>\"06\"</td>\n",
       "    </tr>\n",
       "  </tbody>\n",
       "</table>\n",
       "<p>5 rows × 65 columns</p>\n",
       "</div>"
      ],
      "text/plain": [
       "Fact       Population estimates, July 1, 2016,  (V2016)  \\\n",
       "Alabama                                       4,863,300   \n",
       "Alaska                                          741,894   \n",
       "Arizona                                       6,931,071   \n",
       "Arkansas                                      2,988,248   \n",
       "California                                   39,250,017   \n",
       "\n",
       "Fact       Population estimates base, April 1, 2010,  (V2016)  \\\n",
       "Alabama                                             4,780,131   \n",
       "Alaska                                                710,249   \n",
       "Arizona                                             6,392,301   \n",
       "Arkansas                                            2,916,025   \n",
       "California                                         37,254,522   \n",
       "\n",
       "Fact       Population, percent change - April 1, 2010 (estimates base) to July 1, 2016,  (V2016)  \\\n",
       "Alabama                                                 1.70%                                      \n",
       "Alaska                                                  4.50%                                      \n",
       "Arizona                                                 8.40%                                      \n",
       "Arkansas                                                2.50%                                      \n",
       "California                                              5.40%                                      \n",
       "\n",
       "Fact       Population, Census, April 1, 2010  \\\n",
       "Alabama                            4,779,736   \n",
       "Alaska                               710,231   \n",
       "Arizona                            6,392,017   \n",
       "Arkansas                           2,915,918   \n",
       "California                        37,253,956   \n",
       "\n",
       "Fact       Persons under 5 years, percent, July 1, 2016,  (V2016)  \\\n",
       "Alabama                                                 6.00%       \n",
       "Alaska                                                  7.30%       \n",
       "Arizona                                                 6.30%       \n",
       "Arkansas                                                6.40%       \n",
       "California                                              6.30%       \n",
       "\n",
       "Fact       Persons under 5 years, percent, April 1, 2010  \\\n",
       "Alabama                                            6.40%   \n",
       "Alaska                                             7.60%   \n",
       "Arizona                                            7.10%   \n",
       "Arkansas                                           6.80%   \n",
       "California                                         6.80%   \n",
       "\n",
       "Fact       Persons under 18 years, percent, July 1, 2016,  (V2016)  \\\n",
       "Alabama                                                22.60%        \n",
       "Alaska                                                 25.20%        \n",
       "Arizona                                                23.50%        \n",
       "Arkansas                                               23.60%        \n",
       "California                                             23.20%        \n",
       "\n",
       "Fact       Persons under 18 years, percent, April 1, 2010  \\\n",
       "Alabama                                            23.70%   \n",
       "Alaska                                             26.40%   \n",
       "Arizona                                            25.50%   \n",
       "Arkansas                                           24.40%   \n",
       "California                                         25.00%   \n",
       "\n",
       "Fact       Persons 65 years and over, percent,  July 1, 2016,  (V2016)  \\\n",
       "Alabama                                                16.10%            \n",
       "Alaska                                                 10.40%            \n",
       "Arizona                                                16.90%            \n",
       "Arkansas                                               16.30%            \n",
       "California                                             13.60%            \n",
       "\n",
       "Fact       Persons 65 years and over, percent, April 1, 2010    ...     \\\n",
       "Alabama                                               13.80%    ...      \n",
       "Alaska                                                 7.70%    ...      \n",
       "Arizona                                               13.80%    ...      \n",
       "Arkansas                                              14.40%    ...      \n",
       "California                                            11.40%    ...      \n",
       "\n",
       "Fact       All firms, 2012 Men-owned firms, 2012 Women-owned firms, 2012  \\\n",
       "Alabama            374,153               203,604                 137,630   \n",
       "Alaska              68,032                35,402                  22,141   \n",
       "Arizona            499,926               245,243                 182,425   \n",
       "Arkansas           231,959               123,158                  75,962   \n",
       "California       3,548,449             1,852,580               1,320,085   \n",
       "\n",
       "Fact       Minority-owned firms, 2012 Nonminority-owned firms, 2012  \\\n",
       "Alabama                        92,219                       272,651   \n",
       "Alaska                         13,688                        51,147   \n",
       "Arizona                       135,313                       344,981   \n",
       "Arkansas                       35,982                       189,029   \n",
       "California                  1,619,857                     1,819,107   \n",
       "\n",
       "Fact       Veteran-owned firms, 2012 Nonveteran-owned firms, 2012  \\\n",
       "Alabama                       41,943                      316,984   \n",
       "Alaska                         7,953                       56,091   \n",
       "Arizona                       46,780                      427,582   \n",
       "Arkansas                      25,915                      192,988   \n",
       "California                   252,377                    3,176,341   \n",
       "\n",
       "Fact       Population per square mile, 2010 Land area in square miles, 2010  \\\n",
       "Alabama                                94.4                       50,645.33   \n",
       "Alaska                                  1.2                      570,640.95   \n",
       "Arizona                                56.3                      113,594.08   \n",
       "Arkansas                                 56                       52,035.48   \n",
       "California                            239.1                      155,779.22   \n",
       "\n",
       "Fact       FIPS Code  \n",
       "Alabama         \"01\"  \n",
       "Alaska          \"02\"  \n",
       "Arizona         \"04\"  \n",
       "Arkansas        \"05\"  \n",
       "California      \"06\"  \n",
       "\n",
       "[5 rows x 65 columns]"
      ]
     },
     "execution_count": 22,
     "metadata": {},
     "output_type": "execute_result"
    }
   ],
   "source": [
    "census_df.head()"
   ]
  },
  {
   "cell_type": "code",
   "execution_count": 23,
   "metadata": {
    "collapsed": true
   },
   "outputs": [],
   "source": [
    "#I am creating a new table for census 2016\n",
    "census_2016_df = census_df.iloc[:,0]"
   ]
  },
  {
   "cell_type": "code",
   "execution_count": 24,
   "metadata": {
    "collapsed": true
   },
   "outputs": [],
   "source": [
    "census_2016_df = census_2016_df.reset_index()"
   ]
  },
  {
   "cell_type": "code",
   "execution_count": 25,
   "metadata": {
    "collapsed": false
   },
   "outputs": [
    {
     "data": {
      "text/html": [
       "<div>\n",
       "<table border=\"1\" class=\"dataframe\">\n",
       "  <thead>\n",
       "    <tr style=\"text-align: right;\">\n",
       "      <th></th>\n",
       "      <th>index</th>\n",
       "      <th>Population estimates, July 1, 2016,  (V2016)</th>\n",
       "    </tr>\n",
       "  </thead>\n",
       "  <tbody>\n",
       "    <tr>\n",
       "      <th>0</th>\n",
       "      <td>Alabama</td>\n",
       "      <td>4,863,300</td>\n",
       "    </tr>\n",
       "    <tr>\n",
       "      <th>1</th>\n",
       "      <td>Alaska</td>\n",
       "      <td>741,894</td>\n",
       "    </tr>\n",
       "    <tr>\n",
       "      <th>2</th>\n",
       "      <td>Arizona</td>\n",
       "      <td>6,931,071</td>\n",
       "    </tr>\n",
       "    <tr>\n",
       "      <th>3</th>\n",
       "      <td>Arkansas</td>\n",
       "      <td>2,988,248</td>\n",
       "    </tr>\n",
       "    <tr>\n",
       "      <th>4</th>\n",
       "      <td>California</td>\n",
       "      <td>39,250,017</td>\n",
       "    </tr>\n",
       "  </tbody>\n",
       "</table>\n",
       "</div>"
      ],
      "text/plain": [
       "        index Population estimates, July 1, 2016,  (V2016)\n",
       "0     Alabama                                    4,863,300\n",
       "1      Alaska                                      741,894\n",
       "2     Arizona                                    6,931,071\n",
       "3    Arkansas                                    2,988,248\n",
       "4  California                                   39,250,017"
      ]
     },
     "execution_count": 25,
     "metadata": {},
     "output_type": "execute_result"
    }
   ],
   "source": [
    "census_2016_df.head()"
   ]
  },
  {
   "cell_type": "code",
   "execution_count": 26,
   "metadata": {
    "collapsed": true
   },
   "outputs": [],
   "source": [
    "census_2016_df=census_2016_df.replace(r'^\\s*$', np.nan,regex=True)"
   ]
  },
  {
   "cell_type": "code",
   "execution_count": 27,
   "metadata": {
    "collapsed": false
   },
   "outputs": [],
   "source": [
    "#I am removing the , in the column name\n",
    "census_2016_df['Population estimates, July 1, 2016,  (V2016)'].replace(to_replace=',',value=r'',regex=True,inplace=True)\n",
    "\n"
   ]
  },
  {
   "cell_type": "code",
   "execution_count": 28,
   "metadata": {
    "collapsed": false
   },
   "outputs": [],
   "source": [
    "#To convert the datatype to float\n",
    "census_2016_df['Population estimates, July 1, 2016,  (V2016)']=census_2016_df['Population estimates, July 1, 2016,  (V2016)'].astype(dtype=float, errors = 'coerce')\n",
    "\n"
   ]
  },
  {
   "cell_type": "code",
   "execution_count": 29,
   "metadata": {
    "collapsed": false
   },
   "outputs": [
    {
     "name": "stdout",
     "output_type": "stream",
     "text": [
      "<class 'pandas.core.frame.DataFrame'>\n",
      "Int64Index: 50 entries, 0 to 49\n",
      "Data columns (total 2 columns):\n",
      "index                                           50 non-null object\n",
      "Population estimates, July 1, 2016,  (V2016)    50 non-null float64\n",
      "dtypes: float64(1), object(1)\n",
      "memory usage: 1000.0+ bytes\n"
     ]
    }
   ],
   "source": [
    "census_2016_df.info()"
   ]
  },
  {
   "cell_type": "code",
   "execution_count": 30,
   "metadata": {
    "collapsed": false
   },
   "outputs": [
    {
     "data": {
      "text/plain": [
       "322446343.0"
      ]
     },
     "execution_count": 30,
     "metadata": {},
     "output_type": "execute_result"
    }
   ],
   "source": [
    "census_2016 = census_2016_df['Population estimates, July 1, 2016,  (V2016)'].sum()\n",
    "census_2016"
   ]
  },
  {
   "cell_type": "code",
   "execution_count": 31,
   "metadata": {
    "collapsed": false
   },
   "outputs": [],
   "source": [
    "#I am creating a new table for census 2010\n",
    "census_2010_df=census_df.iloc[:,1]"
   ]
  },
  {
   "cell_type": "code",
   "execution_count": 32,
   "metadata": {
    "collapsed": true
   },
   "outputs": [],
   "source": [
    "census_2010_df = census_2010_df.reset_index()"
   ]
  },
  {
   "cell_type": "code",
   "execution_count": 33,
   "metadata": {
    "collapsed": false
   },
   "outputs": [
    {
     "data": {
      "text/html": [
       "<div>\n",
       "<table border=\"1\" class=\"dataframe\">\n",
       "  <thead>\n",
       "    <tr style=\"text-align: right;\">\n",
       "      <th></th>\n",
       "      <th>index</th>\n",
       "      <th>Population estimates base, April 1, 2010,  (V2016)</th>\n",
       "    </tr>\n",
       "  </thead>\n",
       "  <tbody>\n",
       "    <tr>\n",
       "      <th>0</th>\n",
       "      <td>Alabama</td>\n",
       "      <td>4,780,131</td>\n",
       "    </tr>\n",
       "    <tr>\n",
       "      <th>1</th>\n",
       "      <td>Alaska</td>\n",
       "      <td>710,249</td>\n",
       "    </tr>\n",
       "    <tr>\n",
       "      <th>2</th>\n",
       "      <td>Arizona</td>\n",
       "      <td>6,392,301</td>\n",
       "    </tr>\n",
       "    <tr>\n",
       "      <th>3</th>\n",
       "      <td>Arkansas</td>\n",
       "      <td>2,916,025</td>\n",
       "    </tr>\n",
       "    <tr>\n",
       "      <th>4</th>\n",
       "      <td>California</td>\n",
       "      <td>37,254,522</td>\n",
       "    </tr>\n",
       "  </tbody>\n",
       "</table>\n",
       "</div>"
      ],
      "text/plain": [
       "        index Population estimates base, April 1, 2010,  (V2016)\n",
       "0     Alabama                                          4,780,131\n",
       "1      Alaska                                            710,249\n",
       "2     Arizona                                          6,392,301\n",
       "3    Arkansas                                          2,916,025\n",
       "4  California                                         37,254,522"
      ]
     },
     "execution_count": 33,
     "metadata": {},
     "output_type": "execute_result"
    }
   ],
   "source": [
    "census_2010_df.head()"
   ]
  },
  {
   "cell_type": "code",
   "execution_count": 34,
   "metadata": {
    "collapsed": false
   },
   "outputs": [],
   "source": [
    "#I am removing the , in the column name\n",
    "census_2010_df['Population estimates base, April 1, 2010,  (V2016)'].replace(to_replace=',',value=r'',regex=True,inplace=True)"
   ]
  },
  {
   "cell_type": "code",
   "execution_count": 35,
   "metadata": {
    "collapsed": false
   },
   "outputs": [],
   "source": [
    "#convert datatype to float\n",
    "census_2010_df['Population estimates base, April 1, 2010,  (V2016)']=census_2010_df['Population estimates base, April 1, 2010,  (V2016)'].astype(dtype=float, errors = 'coerce')"
   ]
  },
  {
   "cell_type": "code",
   "execution_count": 36,
   "metadata": {
    "collapsed": false,
    "scrolled": true
   },
   "outputs": [
    {
     "data": {
      "text/html": [
       "<div>\n",
       "<table border=\"1\" class=\"dataframe\">\n",
       "  <thead>\n",
       "    <tr style=\"text-align: right;\">\n",
       "      <th></th>\n",
       "      <th>index</th>\n",
       "      <th>Population estimates base, April 1, 2010,  (V2016)</th>\n",
       "    </tr>\n",
       "  </thead>\n",
       "  <tbody>\n",
       "    <tr>\n",
       "      <th>0</th>\n",
       "      <td>Alabama</td>\n",
       "      <td>4780131</td>\n",
       "    </tr>\n",
       "    <tr>\n",
       "      <th>1</th>\n",
       "      <td>Alaska</td>\n",
       "      <td>710249</td>\n",
       "    </tr>\n",
       "    <tr>\n",
       "      <th>2</th>\n",
       "      <td>Arizona</td>\n",
       "      <td>6392301</td>\n",
       "    </tr>\n",
       "    <tr>\n",
       "      <th>3</th>\n",
       "      <td>Arkansas</td>\n",
       "      <td>2916025</td>\n",
       "    </tr>\n",
       "    <tr>\n",
       "      <th>4</th>\n",
       "      <td>California</td>\n",
       "      <td>37254522</td>\n",
       "    </tr>\n",
       "  </tbody>\n",
       "</table>\n",
       "</div>"
      ],
      "text/plain": [
       "        index  Population estimates base, April 1, 2010,  (V2016)\n",
       "0     Alabama                                            4780131 \n",
       "1      Alaska                                             710249 \n",
       "2     Arizona                                            6392301 \n",
       "3    Arkansas                                            2916025 \n",
       "4  California                                           37254522 "
      ]
     },
     "execution_count": 36,
     "metadata": {},
     "output_type": "execute_result"
    }
   ],
   "source": [
    "census_2010_df.reset_index(drop = True).head()\n",
    "\n"
   ]
  },
  {
   "cell_type": "code",
   "execution_count": 37,
   "metadata": {
    "collapsed": false
   },
   "outputs": [
    {
     "name": "stdout",
     "output_type": "stream",
     "text": [
      "<class 'pandas.core.frame.DataFrame'>\n",
      "Int64Index: 50 entries, 0 to 49\n",
      "Data columns (total 2 columns):\n",
      "index                                                 50 non-null object\n",
      "Population estimates base, April 1, 2010,  (V2016)    50 non-null float64\n",
      "dtypes: float64(1), object(1)\n",
      "memory usage: 1000.0+ bytes\n"
     ]
    }
   ],
   "source": [
    "census_2010_df.info()"
   ]
  },
  {
   "cell_type": "code",
   "execution_count": 38,
   "metadata": {
    "collapsed": false
   },
   "outputs": [
    {
     "data": {
      "text/plain": [
       "308156339.0"
      ]
     },
     "execution_count": 38,
     "metadata": {},
     "output_type": "execute_result"
    }
   ],
   "source": [
    "census_2010 = census_2010_df['Population estimates base, April 1, 2010,  (V2016)'].sum()\n",
    "census_2010"
   ]
  },
  {
   "cell_type": "code",
   "execution_count": null,
   "metadata": {
    "collapsed": true
   },
   "outputs": [],
   "source": []
  },
  {
   "cell_type": "code",
   "execution_count": null,
   "metadata": {
    "collapsed": true
   },
   "outputs": [],
   "source": []
  },
  {
   "cell_type": "code",
   "execution_count": null,
   "metadata": {
    "collapsed": true
   },
   "outputs": [],
   "source": []
  },
  {
   "cell_type": "code",
   "execution_count": null,
   "metadata": {
    "collapsed": true
   },
   "outputs": [],
   "source": []
  },
  {
   "cell_type": "markdown",
   "metadata": {},
   "source": [
    "<a id='eda'></a>\n",
    "## Exploratory Data Analysis\n",
    "\n",
    "> **Tip**: Now that you've trimmed and cleaned your data, you're ready to move on to exploration. Compute statistics and create visualizations with the goal of addressing the research questions that you posed in the Introduction section. It is recommended that you be systematic with your approach. Look at one variable at a time, and then follow it up by looking at relationships between variables.\n",
    "\n",
    "### Research Question 1 (What is the estimated number of civilians gun registration per capita by states in the years 2010 and 2016?)"
   ]
  },
  {
   "cell_type": "code",
   "execution_count": 39,
   "metadata": {
    "collapsed": false
   },
   "outputs": [
    {
     "data": {
      "text/html": [
       "<div>\n",
       "<table border=\"1\" class=\"dataframe\">\n",
       "  <thead>\n",
       "    <tr style=\"text-align: right;\">\n",
       "      <th></th>\n",
       "      <th>index</th>\n",
       "      <th>Population estimates base, April 1, 2010,  (V2016)</th>\n",
       "      <th>Population estimates, July 1, 2016,  (V2016)</th>\n",
       "    </tr>\n",
       "  </thead>\n",
       "  <tbody>\n",
       "    <tr>\n",
       "      <th>0</th>\n",
       "      <td>Alabama</td>\n",
       "      <td>4780131</td>\n",
       "      <td>4863300</td>\n",
       "    </tr>\n",
       "    <tr>\n",
       "      <th>1</th>\n",
       "      <td>Alaska</td>\n",
       "      <td>710249</td>\n",
       "      <td>741894</td>\n",
       "    </tr>\n",
       "    <tr>\n",
       "      <th>2</th>\n",
       "      <td>Arizona</td>\n",
       "      <td>6392301</td>\n",
       "      <td>6931071</td>\n",
       "    </tr>\n",
       "    <tr>\n",
       "      <th>3</th>\n",
       "      <td>Arkansas</td>\n",
       "      <td>2916025</td>\n",
       "      <td>2988248</td>\n",
       "    </tr>\n",
       "    <tr>\n",
       "      <th>4</th>\n",
       "      <td>California</td>\n",
       "      <td>37254522</td>\n",
       "      <td>39250017</td>\n",
       "    </tr>\n",
       "  </tbody>\n",
       "</table>\n",
       "</div>"
      ],
      "text/plain": [
       "        index  Population estimates base, April 1, 2010,  (V2016)  \\\n",
       "0     Alabama                                            4780131    \n",
       "1      Alaska                                             710249    \n",
       "2     Arizona                                            6392301    \n",
       "3    Arkansas                                            2916025    \n",
       "4  California                                           37254522    \n",
       "\n",
       "   Population estimates, July 1, 2016,  (V2016)  \n",
       "0                                       4863300  \n",
       "1                                        741894  \n",
       "2                                       6931071  \n",
       "3                                       2988248  \n",
       "4                                      39250017  "
      ]
     },
     "execution_count": 39,
     "metadata": {},
     "output_type": "execute_result"
    }
   ],
   "source": [
    "# Use this, and more code cells, to explore your data. Don't forget to add\n",
    "#   Markdown cells to document your observations and findings.\n",
    "#Merge census 2010 and 2016\n",
    "census_years = census_2010_df.merge(census_2016_df, on='index', how='left')\n",
    "census_years.head()"
   ]
  },
  {
   "cell_type": "code",
   "execution_count": 40,
   "metadata": {
    "collapsed": true
   },
   "outputs": [],
   "source": [
    "# Convert into a percentage \n",
    "def percent(value):\n",
    "    if value > 0.001:\n",
    "        result = value *100\n",
    "    return result "
   ]
  },
  {
   "cell_type": "code",
   "execution_count": 41,
   "metadata": {
    "collapsed": false
   },
   "outputs": [
    {
     "data": {
      "text/html": [
       "<div>\n",
       "<table border=\"1\" class=\"dataframe\">\n",
       "  <thead>\n",
       "    <tr style=\"text-align: right;\">\n",
       "      <th></th>\n",
       "      <th>month_x</th>\n",
       "      <th>state</th>\n",
       "      <th>totals_x</th>\n",
       "      <th>month_y</th>\n",
       "      <th>totals_y</th>\n",
       "    </tr>\n",
       "  </thead>\n",
       "  <tbody>\n",
       "    <tr>\n",
       "      <th>0</th>\n",
       "      <td>2010-04-01</td>\n",
       "      <td>Alabama</td>\n",
       "      <td>20791</td>\n",
       "      <td>2016-07-01</td>\n",
       "      <td>48927</td>\n",
       "    </tr>\n",
       "    <tr>\n",
       "      <th>1</th>\n",
       "      <td>2010-04-01</td>\n",
       "      <td>Alaska</td>\n",
       "      <td>6411</td>\n",
       "      <td>2016-07-01</td>\n",
       "      <td>6793</td>\n",
       "    </tr>\n",
       "    <tr>\n",
       "      <th>2</th>\n",
       "      <td>2010-04-01</td>\n",
       "      <td>Arizona</td>\n",
       "      <td>16578</td>\n",
       "      <td>2016-07-01</td>\n",
       "      <td>34496</td>\n",
       "    </tr>\n",
       "    <tr>\n",
       "      <th>3</th>\n",
       "      <td>2010-04-01</td>\n",
       "      <td>Arkansas</td>\n",
       "      <td>14563</td>\n",
       "      <td>2016-07-01</td>\n",
       "      <td>19378</td>\n",
       "    </tr>\n",
       "    <tr>\n",
       "      <th>4</th>\n",
       "      <td>2010-04-01</td>\n",
       "      <td>California</td>\n",
       "      <td>80750</td>\n",
       "      <td>2016-07-01</td>\n",
       "      <td>190218</td>\n",
       "    </tr>\n",
       "  </tbody>\n",
       "</table>\n",
       "</div>"
      ],
      "text/plain": [
       "     month_x       state  totals_x    month_y  totals_y\n",
       "0 2010-04-01     Alabama     20791 2016-07-01     48927\n",
       "1 2010-04-01      Alaska      6411 2016-07-01      6793\n",
       "2 2010-04-01     Arizona     16578 2016-07-01     34496\n",
       "3 2010-04-01    Arkansas     14563 2016-07-01     19378\n",
       "4 2010-04-01  California     80750 2016-07-01    190218"
      ]
     },
     "execution_count": 41,
     "metadata": {},
     "output_type": "execute_result"
    }
   ],
   "source": [
    "#Merge 2010 and 2016\n",
    "gun_years = gun_data_2010.merge(gun_data_2016, on='state', how='left')\n",
    "gun_years.head()"
   ]
  },
  {
   "cell_type": "code",
   "execution_count": 42,
   "metadata": {
    "collapsed": false
   },
   "outputs": [
    {
     "data": {
      "text/plain": [
       "0.003978133320178106"
      ]
     },
     "execution_count": 42,
     "metadata": {},
     "output_type": "execute_result"
    }
   ],
   "source": [
    "per_capita_2010 = gun_years['totals_x'].sum()/census_years['Population estimates base, April 1, 2010,  (V2016)'].sum()\n",
    "per_capita_2010"
   ]
  },
  {
   "cell_type": "code",
   "execution_count": 43,
   "metadata": {
    "collapsed": false
   },
   "outputs": [
    {
     "data": {
      "text/plain": [
       "0.3978133320178106"
      ]
     },
     "execution_count": 43,
     "metadata": {},
     "output_type": "execute_result"
    }
   ],
   "source": [
    "#Convert to percentage\n",
    "percent(per_capita_2010)"
   ]
  },
  {
   "cell_type": "code",
   "execution_count": 44,
   "metadata": {
    "collapsed": false
   },
   "outputs": [
    {
     "data": {
      "text/plain": [
       "0.006777933902633841"
      ]
     },
     "execution_count": 44,
     "metadata": {},
     "output_type": "execute_result"
    }
   ],
   "source": [
    "# Checking out gun per capita 2016\n",
    "per_capita_2016 = gun_years['totals_y'].sum()/census_years['Population estimates, July 1, 2016,  (V2016)'].sum()\n",
    "per_capita_2016"
   ]
  },
  {
   "cell_type": "code",
   "execution_count": 45,
   "metadata": {
    "collapsed": false
   },
   "outputs": [
    {
     "data": {
      "text/plain": [
       "0.677793390263384"
      ]
     },
     "execution_count": 45,
     "metadata": {},
     "output_type": "execute_result"
    }
   ],
   "source": [
    "#Convert to percentage\n",
    "percent(per_capita_2016)"
   ]
  },
  {
   "cell_type": "markdown",
   "metadata": {
    "collapsed": true
   },
   "source": [
    "## The gun per capita for the year 2010 is 0.398% while that of the year 2016 is 0.678% indicating a 58.7% increment within the two census years."
   ]
  },
  {
   "cell_type": "code",
   "execution_count": 46,
   "metadata": {
    "collapsed": false
   },
   "outputs": [
    {
     "data": {
      "image/png": "[encoded data removed]",
      "text/plain": [
       "<matplotlib.figure.Figure at 0x744d170>"
      ]
     },
     "metadata": {},
     "output_type": "display_data"
    }
   ],
   "source": [
    "# Check out the graph Per capita \n",
    "\n",
    "year = [2010, 2016]\n",
    "per_capita = [0.3978133307268642, 0.677793390263384]\n",
    "\n",
    "plt.plot(year, per_capita)\n",
    "plt.show()"
   ]
  },
  {
   "cell_type": "code",
   "execution_count": null,
   "metadata": {
    "collapsed": true
   },
   "outputs": [],
   "source": []
  },
  {
   "cell_type": "markdown",
   "metadata": {},
   "source": [
    "### Research Question 2  (What is the percentage of female gun registration and the gun trend per state in the year 2010?)"
   ]
  },
  {
   "cell_type": "code",
   "execution_count": 47,
   "metadata": {
    "collapsed": true
   },
   "outputs": [],
   "source": [
    "# I will extract the female persons percentage for the year 2010 from the dataset provided "
   ]
  },
  {
   "cell_type": "code",
   "execution_count": 48,
   "metadata": {
    "collapsed": true
   },
   "outputs": [],
   "source": [
    "female_census_2010 = census_df.iloc[:,11]"
   ]
  },
  {
   "cell_type": "code",
   "execution_count": 49,
   "metadata": {
    "collapsed": true
   },
   "outputs": [],
   "source": [
    "female_census_2010 = female_census_2010.reset_index()"
   ]
  },
  {
   "cell_type": "code",
   "execution_count": 50,
   "metadata": {
    "collapsed": false
   },
   "outputs": [
    {
     "data": {
      "text/html": [
       "<div>\n",
       "<table border=\"1\" class=\"dataframe\">\n",
       "  <thead>\n",
       "    <tr style=\"text-align: right;\">\n",
       "      <th></th>\n",
       "      <th>index</th>\n",
       "      <th>Female persons, percent, April 1, 2010</th>\n",
       "    </tr>\n",
       "  </thead>\n",
       "  <tbody>\n",
       "    <tr>\n",
       "      <th>0</th>\n",
       "      <td>Alabama</td>\n",
       "      <td>51.50%</td>\n",
       "    </tr>\n",
       "    <tr>\n",
       "      <th>1</th>\n",
       "      <td>Alaska</td>\n",
       "      <td>48.00%</td>\n",
       "    </tr>\n",
       "    <tr>\n",
       "      <th>2</th>\n",
       "      <td>Arizona</td>\n",
       "      <td>50.30%</td>\n",
       "    </tr>\n",
       "    <tr>\n",
       "      <th>3</th>\n",
       "      <td>Arkansas</td>\n",
       "      <td>50.90%</td>\n",
       "    </tr>\n",
       "    <tr>\n",
       "      <th>4</th>\n",
       "      <td>California</td>\n",
       "      <td>50.30%</td>\n",
       "    </tr>\n",
       "  </tbody>\n",
       "</table>\n",
       "</div>"
      ],
      "text/plain": [
       "        index Female persons, percent, April 1, 2010\n",
       "0     Alabama                                 51.50%\n",
       "1      Alaska                                 48.00%\n",
       "2     Arizona                                 50.30%\n",
       "3    Arkansas                                 50.90%\n",
       "4  California                                 50.30%"
      ]
     },
     "execution_count": 50,
     "metadata": {},
     "output_type": "execute_result"
    }
   ],
   "source": [
    "female_census_2010.head()"
   ]
  },
  {
   "cell_type": "code",
   "execution_count": 51,
   "metadata": {
    "collapsed": false
   },
   "outputs": [
    {
     "name": "stdout",
     "output_type": "stream",
     "text": [
      "<class 'pandas.core.frame.DataFrame'>\n",
      "Int64Index: 50 entries, 0 to 49\n",
      "Data columns (total 2 columns):\n",
      "index                                     50 non-null object\n",
      "Female persons, percent, April 1, 2010    50 non-null object\n",
      "dtypes: object(2)\n",
      "memory usage: 800.0+ bytes\n"
     ]
    }
   ],
   "source": [
    "female_census_2010.info()"
   ]
  },
  {
   "cell_type": "code",
   "execution_count": 52,
   "metadata": {
    "collapsed": false
   },
   "outputs": [],
   "source": [
    "female_census_2010['Female persons, percent, April 1, 2010'] = female_census_2010['Female persons, percent, April 1, 2010'].str.rstrip(\"%\").astype(float)/100"
   ]
  },
  {
   "cell_type": "code",
   "execution_count": 53,
   "metadata": {
    "collapsed": false
   },
   "outputs": [
    {
     "data": {
      "text/html": [
       "<div>\n",
       "<table border=\"1\" class=\"dataframe\">\n",
       "  <thead>\n",
       "    <tr style=\"text-align: right;\">\n",
       "      <th></th>\n",
       "      <th>index</th>\n",
       "      <th>Female persons, percent, April 1, 2010</th>\n",
       "    </tr>\n",
       "  </thead>\n",
       "  <tbody>\n",
       "    <tr>\n",
       "      <th>0</th>\n",
       "      <td>Alabama</td>\n",
       "      <td>0.515</td>\n",
       "    </tr>\n",
       "    <tr>\n",
       "      <th>1</th>\n",
       "      <td>Alaska</td>\n",
       "      <td>0.480</td>\n",
       "    </tr>\n",
       "    <tr>\n",
       "      <th>2</th>\n",
       "      <td>Arizona</td>\n",
       "      <td>0.503</td>\n",
       "    </tr>\n",
       "    <tr>\n",
       "      <th>3</th>\n",
       "      <td>Arkansas</td>\n",
       "      <td>0.509</td>\n",
       "    </tr>\n",
       "    <tr>\n",
       "      <th>4</th>\n",
       "      <td>California</td>\n",
       "      <td>0.503</td>\n",
       "    </tr>\n",
       "  </tbody>\n",
       "</table>\n",
       "</div>"
      ],
      "text/plain": [
       "        index  Female persons, percent, April 1, 2010\n",
       "0     Alabama                                   0.515\n",
       "1      Alaska                                   0.480\n",
       "2     Arizona                                   0.503\n",
       "3    Arkansas                                   0.509\n",
       "4  California                                   0.503"
      ]
     },
     "execution_count": 53,
     "metadata": {},
     "output_type": "execute_result"
    }
   ],
   "source": [
    "female_census_2010.head()"
   ]
  },
  {
   "cell_type": "code",
   "execution_count": 54,
   "metadata": {
    "collapsed": false
   },
   "outputs": [
    {
     "data": {
      "text/plain": [
       "Female persons, percent, April 1, 2010    0.385662\n",
       "dtype: float64"
      ]
     },
     "execution_count": 54,
     "metadata": {},
     "output_type": "execute_result"
    }
   ],
   "source": [
    "#Calculate the average female census percentage for the year 2010 to get the \n",
    "female_census_2010.mean()\n"
   ]
  },
  {
   "cell_type": "code",
   "execution_count": null,
   "metadata": {
    "collapsed": true
   },
   "outputs": [],
   "source": []
  },
  {
   "cell_type": "markdown",
   "metadata": {
    "collapsed": true
   },
   "source": [
    "## The gun registration of female compared to total registration in the year 2010 is 38.6%"
   ]
  },
  {
   "cell_type": "code",
   "execution_count": 55,
   "metadata": {
    "collapsed": false
   },
   "outputs": [
    {
     "data": {
      "image/png": "[encoded data removed]",
      "text/plain": [
       "<matplotlib.figure.Figure at 0x74b4e50>"
      ]
     },
     "metadata": {},
     "output_type": "display_data"
    }
   ],
   "source": [
    "#plot a pie chart to show the trend of female gun registration in 2010 per state\n",
    "female_census_2010.plot.pie(y='Female persons, percent, April 1, 2010', figsize=(20,16),labels=female_census_2010['index'], autopct='%.2f')\n",
    "plt.show()"
   ]
  },
  {
   "cell_type": "markdown",
   "metadata": {
    "collapsed": true
   },
   "source": [
    "## Research Question 3 (Show the Gun Trend for the Year 2016) "
   ]
  },
  {
   "cell_type": "code",
   "execution_count": 56,
   "metadata": {
    "collapsed": false
   },
   "outputs": [
    {
     "name": "stdout",
     "output_type": "stream",
     "text": [
      "     month       state  permit  permit_recheck  handgun  long_gun  other  \\\n",
      "0  2017-09     Alabama   16717               0     5734      6320    221   \n",
      "1  2017-09      Alaska     209               2     2320      2930    219   \n",
      "2  2017-09     Arizona    5069             382    11063      7946    920   \n",
      "3  2017-09    Arkansas    2935             632     4347      6063    165   \n",
      "4  2017-09  California   57839               0    37165     24581   2984   \n",
      "\n",
      "   multiple  admin  prepawn_handgun   ...    returned_other  rentals_handgun  \\\n",
      "0       317      0               15   ...                 0                0   \n",
      "1       160      0                5   ...                 0                0   \n",
      "2       631      0               13   ...                 0                0   \n",
      "3       366     51               12   ...                 0                0   \n",
      "4         0      0                0   ...                 0                0   \n",
      "\n",
      "   rentals_long_gun  private_sale_handgun  private_sale_long_gun  \\\n",
      "0                 0                     9                     16   \n",
      "1                 0                    17                     24   \n",
      "2                 0                    38                     12   \n",
      "3                 0                    13                     23   \n",
      "4                 0                     0                      0   \n",
      "\n",
      "   private_sale_other  return_to_seller_handgun  return_to_seller_long_gun  \\\n",
      "0                   3                         0                          0   \n",
      "1                   1                         0                          0   \n",
      "2                   2                         0                          0   \n",
      "3                   0                         0                          2   \n",
      "4                   0                         0                          0   \n",
      "\n",
      "   return_to_seller_other  totals  \n",
      "0                       3   32019  \n",
      "1                       0    6303  \n",
      "2                       0   28394  \n",
      "3                       1   17747  \n",
      "4                       0  123506  \n",
      "\n",
      "[5 rows x 27 columns]\n"
     ]
    }
   ],
   "source": [
    "print(gun_df.head())"
   ]
  },
  {
   "cell_type": "code",
   "execution_count": 57,
   "metadata": {
    "collapsed": false
   },
   "outputs": [
    {
     "data": {
      "text/html": [
       "<div>\n",
       "<table border=\"1\" class=\"dataframe\">\n",
       "  <thead>\n",
       "    <tr style=\"text-align: right;\">\n",
       "      <th></th>\n",
       "      <th>month</th>\n",
       "      <th>state</th>\n",
       "      <th>permit</th>\n",
       "      <th>permit_recheck</th>\n",
       "      <th>handgun</th>\n",
       "      <th>long_gun</th>\n",
       "      <th>other</th>\n",
       "      <th>multiple</th>\n",
       "      <th>admin</th>\n",
       "      <th>prepawn_handgun</th>\n",
       "      <th>...</th>\n",
       "      <th>returned_other</th>\n",
       "      <th>rentals_handgun</th>\n",
       "      <th>rentals_long_gun</th>\n",
       "      <th>private_sale_handgun</th>\n",
       "      <th>private_sale_long_gun</th>\n",
       "      <th>private_sale_other</th>\n",
       "      <th>return_to_seller_handgun</th>\n",
       "      <th>return_to_seller_long_gun</th>\n",
       "      <th>return_to_seller_other</th>\n",
       "      <th>totals</th>\n",
       "    </tr>\n",
       "  </thead>\n",
       "  <tbody>\n",
       "    <tr>\n",
       "      <th>770</th>\n",
       "      <td>2016-07</td>\n",
       "      <td>Alabama</td>\n",
       "      <td>27765</td>\n",
       "      <td>0</td>\n",
       "      <td>10132</td>\n",
       "      <td>7392</td>\n",
       "      <td>538</td>\n",
       "      <td>465</td>\n",
       "      <td>0</td>\n",
       "      <td>5</td>\n",
       "      <td>...</td>\n",
       "      <td>0</td>\n",
       "      <td>NaN</td>\n",
       "      <td>NaN</td>\n",
       "      <td>9</td>\n",
       "      <td>5</td>\n",
       "      <td>0</td>\n",
       "      <td>1</td>\n",
       "      <td>1</td>\n",
       "      <td>0</td>\n",
       "      <td>48927</td>\n",
       "    </tr>\n",
       "    <tr>\n",
       "      <th>771</th>\n",
       "      <td>2016-07</td>\n",
       "      <td>Alaska</td>\n",
       "      <td>215</td>\n",
       "      <td>0</td>\n",
       "      <td>2898</td>\n",
       "      <td>2816</td>\n",
       "      <td>239</td>\n",
       "      <td>165</td>\n",
       "      <td>0</td>\n",
       "      <td>7</td>\n",
       "      <td>...</td>\n",
       "      <td>0</td>\n",
       "      <td>NaN</td>\n",
       "      <td>NaN</td>\n",
       "      <td>7</td>\n",
       "      <td>17</td>\n",
       "      <td>0</td>\n",
       "      <td>1</td>\n",
       "      <td>0</td>\n",
       "      <td>0</td>\n",
       "      <td>6793</td>\n",
       "    </tr>\n",
       "    <tr>\n",
       "      <th>772</th>\n",
       "      <td>2016-07</td>\n",
       "      <td>Arizona</td>\n",
       "      <td>7863</td>\n",
       "      <td>308</td>\n",
       "      <td>13693</td>\n",
       "      <td>8643</td>\n",
       "      <td>1283</td>\n",
       "      <td>642</td>\n",
       "      <td>0</td>\n",
       "      <td>5</td>\n",
       "      <td>...</td>\n",
       "      <td>0</td>\n",
       "      <td>NaN</td>\n",
       "      <td>NaN</td>\n",
       "      <td>13</td>\n",
       "      <td>9</td>\n",
       "      <td>0</td>\n",
       "      <td>0</td>\n",
       "      <td>1</td>\n",
       "      <td>0</td>\n",
       "      <td>34496</td>\n",
       "    </tr>\n",
       "    <tr>\n",
       "      <th>773</th>\n",
       "      <td>2016-07</td>\n",
       "      <td>Arkansas</td>\n",
       "      <td>4116</td>\n",
       "      <td>677</td>\n",
       "      <td>6323</td>\n",
       "      <td>5053</td>\n",
       "      <td>325</td>\n",
       "      <td>367</td>\n",
       "      <td>2</td>\n",
       "      <td>6</td>\n",
       "      <td>...</td>\n",
       "      <td>0</td>\n",
       "      <td>NaN</td>\n",
       "      <td>NaN</td>\n",
       "      <td>7</td>\n",
       "      <td>5</td>\n",
       "      <td>1</td>\n",
       "      <td>0</td>\n",
       "      <td>1</td>\n",
       "      <td>0</td>\n",
       "      <td>19378</td>\n",
       "    </tr>\n",
       "    <tr>\n",
       "      <th>774</th>\n",
       "      <td>2016-07</td>\n",
       "      <td>California</td>\n",
       "      <td>77962</td>\n",
       "      <td>0</td>\n",
       "      <td>46361</td>\n",
       "      <td>47594</td>\n",
       "      <td>17297</td>\n",
       "      <td>0</td>\n",
       "      <td>0</td>\n",
       "      <td>0</td>\n",
       "      <td>...</td>\n",
       "      <td>0</td>\n",
       "      <td>NaN</td>\n",
       "      <td>NaN</td>\n",
       "      <td>0</td>\n",
       "      <td>0</td>\n",
       "      <td>0</td>\n",
       "      <td>0</td>\n",
       "      <td>0</td>\n",
       "      <td>0</td>\n",
       "      <td>190218</td>\n",
       "    </tr>\n",
       "  </tbody>\n",
       "</table>\n",
       "<p>5 rows × 27 columns</p>\n",
       "</div>"
      ],
      "text/plain": [
       "       month       state  permit  permit_recheck  handgun  long_gun  other  \\\n",
       "770  2016-07     Alabama   27765               0    10132      7392    538   \n",
       "771  2016-07      Alaska     215               0     2898      2816    239   \n",
       "772  2016-07     Arizona    7863             308    13693      8643   1283   \n",
       "773  2016-07    Arkansas    4116             677     6323      5053    325   \n",
       "774  2016-07  California   77962               0    46361     47594  17297   \n",
       "\n",
       "     multiple  admin  prepawn_handgun   ...    returned_other  \\\n",
       "770       465      0                5   ...                 0   \n",
       "771       165      0                7   ...                 0   \n",
       "772       642      0                5   ...                 0   \n",
       "773       367      2                6   ...                 0   \n",
       "774         0      0                0   ...                 0   \n",
       "\n",
       "     rentals_handgun  rentals_long_gun  private_sale_handgun  \\\n",
       "770              NaN               NaN                     9   \n",
       "771              NaN               NaN                     7   \n",
       "772              NaN               NaN                    13   \n",
       "773              NaN               NaN                     7   \n",
       "774              NaN               NaN                     0   \n",
       "\n",
       "     private_sale_long_gun  private_sale_other  return_to_seller_handgun  \\\n",
       "770                      5                   0                         1   \n",
       "771                     17                   0                         1   \n",
       "772                      9                   0                         0   \n",
       "773                      5                   1                         0   \n",
       "774                      0                   0                         0   \n",
       "\n",
       "     return_to_seller_long_gun  return_to_seller_other  totals  \n",
       "770                          1                       0   48927  \n",
       "771                          0                       0    6793  \n",
       "772                          1                       0   34496  \n",
       "773                          1                       0   19378  \n",
       "774                          0                       0  190218  \n",
       "\n",
       "[5 rows x 27 columns]"
      ]
     },
     "execution_count": 57,
     "metadata": {},
     "output_type": "execute_result"
    }
   ],
   "source": [
    "#Load Gun Data for the year 2016\n",
    "gun_2016 = gun_df[gun_df['month'] == '2016-07']\n",
    "gun_2016.head()"
   ]
  },
  {
   "cell_type": "code",
   "execution_count": 58,
   "metadata": {
    "collapsed": true
   },
   "outputs": [],
   "source": [
    "#Extract the columns that have guns from the data set\n",
    "gun = ['handgun', 'long_gun', 'other', 'multiple']"
   ]
  },
  {
   "cell_type": "code",
   "execution_count": 59,
   "metadata": {
    "collapsed": true
   },
   "outputs": [],
   "source": [
    "#sum all the gun types "
   ]
  },
  {
   "cell_type": "code",
   "execution_count": 60,
   "metadata": {
    "collapsed": false
   },
   "outputs": [
    {
     "data": {
      "text/plain": [
       "627515.0"
      ]
     },
     "execution_count": 60,
     "metadata": {},
     "output_type": "execute_result"
    }
   ],
   "source": [
    "gun_2016['handgun'].sum()"
   ]
  },
  {
   "cell_type": "code",
   "execution_count": 61,
   "metadata": {
    "collapsed": false
   },
   "outputs": [
    {
     "data": {
      "text/plain": [
       "440051.0"
      ]
     },
     "execution_count": 61,
     "metadata": {},
     "output_type": "execute_result"
    }
   ],
   "source": [
    "gun_2016['long_gun'].sum()"
   ]
  },
  {
   "cell_type": "code",
   "execution_count": 62,
   "metadata": {
    "collapsed": false
   },
   "outputs": [
    {
     "data": {
      "text/plain": [
       "53287.0"
      ]
     },
     "execution_count": 62,
     "metadata": {},
     "output_type": "execute_result"
    }
   ],
   "source": [
    "gun_2016['other'].sum()"
   ]
  },
  {
   "cell_type": "code",
   "execution_count": 63,
   "metadata": {
    "collapsed": false
   },
   "outputs": [
    {
     "data": {
      "text/plain": [
       "21390"
      ]
     },
     "execution_count": 63,
     "metadata": {},
     "output_type": "execute_result"
    }
   ],
   "source": [
    "gun_2016['multiple'].sum()"
   ]
  },
  {
   "cell_type": "code",
   "execution_count": 64,
   "metadata": {
    "collapsed": true
   },
   "outputs": [],
   "source": [
    "#plot a bar chart to show the estimated gun trend for the year 2016 \n",
    "gun = ['handgun', 'long_gun', 'other', 'multiple']\n",
    "purchases = [627515, 440051,53287,21390]"
   ]
  },
  {
   "cell_type": "code",
   "execution_count": 65,
   "metadata": {
    "collapsed": false
   },
   "outputs": [
    {
     "data": {
      "text/plain": [
       "array([0, 1, 2, 3])"
      ]
     },
     "execution_count": 65,
     "metadata": {},
     "output_type": "execute_result"
    }
   ],
   "source": [
    "yman = np.arange(len(gun))\n",
    "yman"
   ]
  },
  {
   "cell_type": "code",
   "execution_count": 66,
   "metadata": {
    "collapsed": false
   },
   "outputs": [
    {
     "name": "stderr",
     "output_type": "stream",
     "text": [
      "C:\\Users\\hp\\Anaconda3\\lib\\site-packages\\matplotlib\\axes\\_axes.py:519: UserWarning: No labelled objects found. Use label='...' kwarg on individual plots.\n",
      "  warnings.warn(\"No labelled objects found. \"\n"
     ]
    },
    {
     "data": {
      "image/png": "[encoded data removed]",
      "text/plain": [
       "<matplotlib.figure.Figure at 0x7d9a350>"
      ]
     },
     "metadata": {},
     "output_type": "display_data"
    }
   ],
   "source": [
    "plt.xticks(yman, gun)\n",
    "plt.ylabel('number of purchases')\n",
    "plt.title('Gun Trend 2016')\n",
    "plt.bar(yman, purchases )\n",
    "plt.legend()"
   ]
  },
  {
   "cell_type": "markdown",
   "metadata": {
    "collapsed": true
   },
   "source": [
    "##The most purchased gun in the year 2016\n",
    "\n",
    "    1. Handgun\n",
    "    2. Longun\n",
    "    3. other\n",
    "    4. mutiple\n"
   ]
  },
  {
   "cell_type": "code",
   "execution_count": null,
   "metadata": {
    "collapsed": true
   },
   "outputs": [],
   "source": []
  },
  {
   "cell_type": "markdown",
   "metadata": {},
   "source": [
    "<a id='conclusions'></a>\n",
    "## Conclusions\n",
    "I was able to compare the dates and states variable in this project. Gun registration per capita almost doubled between the years 2010 and 2016 from 0.398% to 0.678%.\n",
    "\n",
    "The average female gun registration for the year 2010 is 0.386% with North Dakota having the least value and Delaware, Maryland, Massachussets having the highest values at a tie of 51.6%.\n",
    "\n",
    "In addition, more handguns were purchased in the year 2016, followed by long_guns and finally other types. \n",
    "\n",
    "There was no Census data for Guam, Puerto Rico, District of Columbia, Virgin Islands and Marianna Islands, so my comparism did not include their gun data.\n",
    "\n",
    "\n",
    "\n"
   ]
  },
  {
   "cell_type": "code",
   "execution_count": null,
   "metadata": {
    "collapsed": true
   },
   "outputs": [],
   "source": []
  }
 ],
 "metadata": {
  "kernelspec": {
   "display_name": "Python 3",
   "language": "python",
   "name": "python3"
  },
  "language_info": {
   "codemirror_mode": {
    "name": "ipython",
    "version": 3
   },
   "file_extension": ".py",
   "mimetype": "text/x-python",
   "name": "python",
   "nbconvert_exporter": "python",
   "pygments_lexer": "ipython3",
   "version": "3.5.1"
  }
 },
 "nbformat": 4,
 "nbformat_minor": 2
}
